{
  "nbformat": 4,
  "nbformat_minor": 0,
  "metadata": {
    "kernelspec": {
      "display_name": "Python 3",
      "language": "python",
      "name": "python3"
    },
    "language_info": {
      "codemirror_mode": {
        "name": "ipython",
        "version": 3
      },
      "file_extension": ".py",
      "mimetype": "text/x-python",
      "name": "python",
      "nbconvert_exporter": "python",
      "pygments_lexer": "ipython3",
      "version": "3.8.3"
    },
    "colab": {
      "name": "Assignment4.ipynb",
      "provenance": [],
      "include_colab_link": true
    }
  },
  "cells": [
    {
      "cell_type": "markdown",
      "metadata": {
        "id": "view-in-github",
        "colab_type": "text"
      },
      "source": [
        "<a href=\"https://colab.research.google.com/github/Jobhert/Activity/blob/main/Assignment4.ipynb\" target=\"_parent\"><img src=\"https://colab.research.google.com/assets/colab-badge.svg\" alt=\"Open In Colab\"/></a>"
      ]
    },
    {
      "cell_type": "markdown",
      "metadata": {
        "id": "oIhcJPw4Ifq7"
      },
      "source": [
        "# Linear Algebra for ECE\n",
        "## Laboratory 4 : Matrices"
      ]
    },
    {
      "cell_type": "markdown",
      "metadata": {
        "id": "5AZfT1ngIfrC"
      },
      "source": [
        "Now that you have a fundamental knowledge about Python, we'll try to look into greater dimensions."
      ]
    },
    {
      "cell_type": "markdown",
      "metadata": {
        "id": "z3yQzzctIfrD"
      },
      "source": [
        "### Objectives\n",
        "At the end of this activity you will be able to:\n",
        "1. Be familiar with matrices and their relation to linear equations.\n",
        "2. Perform basic matrix operations.\n",
        "3. Program and translate matrix equations and operations using Python."
      ]
    },
    {
      "cell_type": "markdown",
      "metadata": {
        "id": "xfXvXLl-IfrE"
      },
      "source": [
        "# Discussion"
      ]
    },
    {
      "cell_type": "code",
      "metadata": {
        "id": "2pbwsjOgIfrF"
      },
      "source": [
        "import numpy as np\n",
        "import matplotlib.pyplot as plt\n",
        "import scipy.linalg as la\n",
        "%matplotlib inline"
      ],
      "execution_count": 1,
      "outputs": []
    },
    {
      "cell_type": "markdown",
      "metadata": {
        "id": "OoHJrqIuIfrG"
      },
      "source": [
        "### Matrices"
      ]
    },
    {
      "cell_type": "markdown",
      "metadata": {
        "id": "rmoXv48oIfrG"
      },
      "source": [
        "The notation and use of matrices is probably one of the fundamentals of modern computing. Matrices are also handy representations of complex equations or multiple inter-related equations from 2-dimensional equations to even hundreds and thousands of them."
      ]
    },
    {
      "cell_type": "markdown",
      "metadata": {
        "id": "vMNHzYdvIfrG"
      },
      "source": [
        "Let's say for example you have $A$ and $B$ as system of equation."
      ]
    },
    {
      "cell_type": "markdown",
      "metadata": {
        "id": "UGBWeAoeIfrH"
      },
      "source": [
        "$$\n",
        "A = \\left\\{\n",
        "    \\begin{array}\\\n",
        "        x + y \\\\ \n",
        "        4x - 10y\n",
        "    \\end{array}\n",
        "\\right. \\\\\n",
        "B = \\left\\{\n",
        "    \\begin{array}\\\n",
        "        x+y+z \\\\ \n",
        "        3x -2y -z \\\\\n",
        "        -x + 4y +2z\n",
        "    \\end{array}\n",
        "\\right. $$"
      ]
    },
    {
      "cell_type": "markdown",
      "metadata": {
        "id": "dHxKG8C6IfrH"
      },
      "source": [
        "We could see that $A$ is a system of 2 equations with 2 parameters. While $B$ is a system of 3 equations with 3 parameters. We can represent them as matrices as:"
      ]
    },
    {
      "cell_type": "markdown",
      "metadata": {
        "id": "kA8oyF0GIfrI"
      },
      "source": [
        "$$\n",
        "A=\\begin{bmatrix} 1 & 1 \\\\ 4 & {-10}\\end{bmatrix} \\\\\n",
        "B=\\begin{bmatrix} 1 & 1 & 1 \\\\ 3 & -2 & -1 \\\\ -1 & 4 & 2\\end{bmatrix}\n",
        "$$"
      ]
    },
    {
      "cell_type": "markdown",
      "metadata": {
        "id": "HEJFn3phIfrI"
      },
      "source": [
        "So assuming that you already discussed the fundamental representation of matrices, their types, and operations. We'll proceed in doing them in here in Python."
      ]
    },
    {
      "cell_type": "markdown",
      "metadata": {
        "id": "fKS9O9p6IfrI"
      },
      "source": [
        "### Declaring Matrices"
      ]
    },
    {
      "cell_type": "markdown",
      "metadata": {
        "id": "7_nn4LJyIfrJ"
      },
      "source": [
        "Just like our previous laboratory activity, we'll represent system of linear equations as a matrix. The entities or numbers in matrices are called the elements of a matrix. These elements are arranged and ordered in rows and columns which form the list/array-like structure of matrices. And just like arrays, these elements are indexed according to their position with respect to their rows and columns. This can be reprsented just like the equation below. Whereas $A$ is a matrix consisting of elements denoted by $a_{i,j}$. Denoted by $i$ is the number of rows in the matrix while $j$ stands for the number of columns.<br>\n",
        "Do note that the $size$ of a matrix is $i\\times j$."
      ]
    },
    {
      "cell_type": "markdown",
      "metadata": {
        "id": "dk6N1g_OIfrJ"
      },
      "source": [
        "$$A=\\begin{bmatrix}\n",
        "a_{(0,0)}&a_{(0,1)}&\\dots&a_{(0,j-1)}\\\\\n",
        "a_{(1,0)}&a_{(1,1)}&\\dots&a_{(1,j-1)}\\\\\n",
        "\\vdots&\\vdots&\\ddots&\\vdots&\\\\\n",
        "a_{(i-1,0)}&a_{(i-1,1)}&\\dots&a_{(i-1,j-1)}\n",
        "\\end{bmatrix}\n",
        "$$"
      ]
    },
    {
      "cell_type": "markdown",
      "metadata": {
        "id": "hHWR-lfaIfrJ"
      },
      "source": [
        "We already gone over some of the types of matrices as vectors but we'll further discuss them in this laboratory activity. Since you already know how to describe vectors using <b>shape</b>, <b>dimensions</b> and <b>size</b> attributes, we'll use them to analyze these matrices."
      ]
    },
    {
      "cell_type": "code",
      "metadata": {
        "id": "2tH_3EyEIfrK"
      },
      "source": [
        "## Since we'll keep on describing matrices. Let's make a function.\n",
        "def describe_mat(matrix):\n",
        "    print(f'Matrix:\\n{matrix}\\n\\nShape:\\t{matrix.shape}\\nRank:\\t{matrix.ndim}\\n')"
      ],
      "execution_count": 4,
      "outputs": []
    },
    {
      "cell_type": "code",
      "metadata": {
        "id": "GtlANSbsIfrK",
        "outputId": "b7788805-7e3e-4dbe-ae66-8c33f1456d6d",
        "colab": {
          "base_uri": "https://localhost:8080/"
        }
      },
      "source": [
        "## Declaring a 2 x 2 matrix\n",
        "A = np.array([\n",
        "    [1, 2],\n",
        "    [3, 1]\n",
        "])\n",
        "describe_mat(A)"
      ],
      "execution_count": 5,
      "outputs": [
        {
          "output_type": "stream",
          "name": "stdout",
          "text": [
            "Matrix:\n",
            "[[1 2]\n",
            " [3 1]]\n",
            "\n",
            "Shape:\t(2, 2)\n",
            "Rank:\t2\n",
            "\n"
          ]
        }
      ]
    },
    {
      "cell_type": "code",
      "metadata": {
        "id": "d25x10ZgIfrL",
        "outputId": "802c23a9-b8f4-4f69-f4fc-40ac3e09a4e0",
        "colab": {
          "base_uri": "https://localhost:8080/"
        }
      },
      "source": [
        "G = np.array([\n",
        "    [1,1],\n",
        "    [2,2]\n",
        "])\n",
        "describe_mat(G)"
      ],
      "execution_count": 6,
      "outputs": [
        {
          "output_type": "stream",
          "name": "stdout",
          "text": [
            "Matrix:\n",
            "[[1 1]\n",
            " [2 2]]\n",
            "\n",
            "Shape:\t(2, 2)\n",
            "Rank:\t2\n",
            "\n"
          ]
        }
      ]
    },
    {
      "cell_type": "code",
      "metadata": {
        "id": "SdPbu_jlIfrM",
        "outputId": "a96abf6a-b4b2-402d-de6c-331f191e13d5",
        "colab": {
          "base_uri": "https://localhost:8080/"
        }
      },
      "source": [
        "## Declaring a 3 x 2 matrix\n",
        "B = np.array([\n",
        "    [8, 2],\n",
        "    [5, 4],\n",
        "    [1, 1]\n",
        "])\n",
        "describe_mat(B)"
      ],
      "execution_count": 7,
      "outputs": [
        {
          "output_type": "stream",
          "name": "stdout",
          "text": [
            "Matrix:\n",
            "[[8 2]\n",
            " [5 4]\n",
            " [1 1]]\n",
            "\n",
            "Shape:\t(3, 2)\n",
            "Rank:\t2\n",
            "\n"
          ]
        }
      ]
    },
    {
      "cell_type": "code",
      "metadata": {
        "id": "sfLJuskKIfrM",
        "outputId": "9d96fb92-86ca-47e7-dec3-e0017ade55c9",
        "colab": {
          "base_uri": "https://localhost:8080/"
        }
      },
      "source": [
        "H = np.array([1,2,3,4,5])\n",
        "describe_mat(H)"
      ],
      "execution_count": 8,
      "outputs": [
        {
          "output_type": "stream",
          "name": "stdout",
          "text": [
            "Matrix:\n",
            "[1 2 3 4 5]\n",
            "\n",
            "Shape:\t(5,)\n",
            "Rank:\t1\n",
            "\n"
          ]
        }
      ]
    },
    {
      "cell_type": "markdown",
      "metadata": {
        "id": "Ay9_A1AnIfrN"
      },
      "source": [
        "## Categorizing Matrices"
      ]
    },
    {
      "cell_type": "markdown",
      "metadata": {
        "id": "qtSnxYlbIfrN"
      },
      "source": [
        "There are several ways of classifying matrices. Once could be according to their <b>shape</b> and another is according to their <b>element values</b>. We'll try to go through them."
      ]
    },
    {
      "cell_type": "markdown",
      "metadata": {
        "id": "ijUKSsPyIfrN"
      },
      "source": [
        "### According to shape"
      ]
    },
    {
      "cell_type": "markdown",
      "metadata": {
        "id": "fA-Wrv8dIfrN"
      },
      "source": [
        "#### Row and Column Matrices"
      ]
    },
    {
      "cell_type": "markdown",
      "metadata": {
        "id": "FhH0IVzXIfrO"
      },
      "source": [
        "Row and column matrices are common in vector and matrix computations. They can also represent row and column spaces of a bigger vector space. Row and column matrices are represented by a single column or single row. So with that being, the shape of row matrices would be $1 \\times j$ and column matrices would be $i \\times 1$."
      ]
    },
    {
      "cell_type": "code",
      "metadata": {
        "id": "jTlVpfeKIfrO",
        "outputId": "24bda601-35bb-4287-b441-8f342535ebc3",
        "colab": {
          "base_uri": "https://localhost:8080/"
        }
      },
      "source": [
        "## Declaring a Row Matrix\n",
        "\n",
        "row_mat_1D = np.array([\n",
        "    1, 3, 2\n",
        "]) ## this is a 1-D Matrix with a shape of (3,), it's not really considered as a row matrix.\n",
        "row_mat_2D = np.array([\n",
        "    [1,2,3]\n",
        "]) ## this is a 2-D Matrix with a shape of (1,3)\n",
        "describe_mat(row_mat_1D)\n",
        "describe_mat(row_mat_2D)"
      ],
      "execution_count": 9,
      "outputs": [
        {
          "output_type": "stream",
          "name": "stdout",
          "text": [
            "Matrix:\n",
            "[1 3 2]\n",
            "\n",
            "Shape:\t(3,)\n",
            "Rank:\t1\n",
            "\n",
            "Matrix:\n",
            "[[1 2 3]]\n",
            "\n",
            "Shape:\t(1, 3)\n",
            "Rank:\t2\n",
            "\n"
          ]
        }
      ]
    },
    {
      "cell_type": "code",
      "metadata": {
        "id": "hA5AQp_GIfrO",
        "outputId": "f15b8283-b2b0-4c4a-e885-18a4851642bd",
        "colab": {
          "base_uri": "https://localhost:8080/"
        }
      },
      "source": [
        "## Declaring a Column Matrix\n",
        "\n",
        "col_mat = np.array([\n",
        "    [1],\n",
        "    [2],\n",
        "    [5]\n",
        "]) ## this is a 2-D Matrix with a shape of (3,1)\n",
        "describe_mat(col_mat)"
      ],
      "execution_count": 10,
      "outputs": [
        {
          "output_type": "stream",
          "name": "stdout",
          "text": [
            "Matrix:\n",
            "[[1]\n",
            " [2]\n",
            " [5]]\n",
            "\n",
            "Shape:\t(3, 1)\n",
            "Rank:\t2\n",
            "\n"
          ]
        }
      ]
    },
    {
      "cell_type": "markdown",
      "metadata": {
        "id": "wOqY4OL6IfrQ"
      },
      "source": [
        "#### Square Matrices"
      ]
    },
    {
      "cell_type": "markdown",
      "metadata": {
        "id": "DXRUyt6_IfrQ"
      },
      "source": [
        "Square matrices are matrices that have the same row and column sizes. We could say a matrix is square if $i = j$. We can tweak our matrix descriptor function to determine square matrices."
      ]
    },
    {
      "cell_type": "code",
      "metadata": {
        "id": "CvQUhuM4IfrR"
      },
      "source": [
        "def describe_mat(matrix):\n",
        "    is_square = True if matrix.shape[0] == matrix.shape[1] else False \n",
        "    print(f'Matrix:\\n{matrix}\\n\\nShape:\\t{matrix.shape}\\nRank:\\t{matrix.ndim}\\nIs Square: {is_square}\\n')"
      ],
      "execution_count": 11,
      "outputs": []
    },
    {
      "cell_type": "code",
      "metadata": {
        "id": "fYldnZYcIfrR",
        "outputId": "ffafae5f-9b45-4848-fe36-c7bc9640b0bf",
        "colab": {
          "base_uri": "https://localhost:8080/"
        }
      },
      "source": [
        "square_mat = np.array([\n",
        "    [1,2,5],\n",
        "    [3,3,8],\n",
        "    [6,1,2]\n",
        "])\n",
        "\n",
        "non_square_mat = np.array([\n",
        "    [1,2,5],\n",
        "    [3,3,8]\n",
        "])\n",
        "describe_mat(square_mat)\n",
        "describe_mat(non_square_mat)"
      ],
      "execution_count": 12,
      "outputs": [
        {
          "output_type": "stream",
          "name": "stdout",
          "text": [
            "Matrix:\n",
            "[[1 2 5]\n",
            " [3 3 8]\n",
            " [6 1 2]]\n",
            "\n",
            "Shape:\t(3, 3)\n",
            "Rank:\t2\n",
            "Is Square: True\n",
            "\n",
            "Matrix:\n",
            "[[1 2 5]\n",
            " [3 3 8]]\n",
            "\n",
            "Shape:\t(2, 3)\n",
            "Rank:\t2\n",
            "Is Square: False\n",
            "\n"
          ]
        }
      ]
    },
    {
      "cell_type": "markdown",
      "metadata": {
        "id": "ZMBb5OJ4IfrR"
      },
      "source": [
        "### According to element values"
      ]
    },
    {
      "cell_type": "markdown",
      "metadata": {
        "id": "UYpPhQIaIfrR"
      },
      "source": [
        "#### Null Matrix"
      ]
    },
    {
      "cell_type": "markdown",
      "metadata": {
        "id": "HTASw0AOIfrS"
      },
      "source": [
        "A Null Matrix is a matrix that has no elements. It is always a subspace of any vector or matrix."
      ]
    },
    {
      "cell_type": "code",
      "metadata": {
        "id": "twSRZ3rbIfrS"
      },
      "source": [
        "def describe_mat(matrix):\n",
        "    if matrix.size > 0:\n",
        "        is_square = True if matrix.shape[0] == matrix.shape[1] else False \n",
        "        print(f'Matrix:\\n{matrix}\\n\\nShape:\\t{matrix.shape}\\nRank:\\t{matrix.ndim}\\nIs Square: {is_square}\\n')\n",
        "    else:\n",
        "        print('Matrix is Null')"
      ],
      "execution_count": 13,
      "outputs": []
    },
    {
      "cell_type": "code",
      "metadata": {
        "id": "N1_ZOBKnIfrS",
        "outputId": "c1520aee-0d6f-438f-cdb9-f3f68878e56f",
        "colab": {
          "base_uri": "https://localhost:8080/"
        }
      },
      "source": [
        "null_mat = np.array([])\n",
        "describe_mat(null_mat)"
      ],
      "execution_count": 14,
      "outputs": [
        {
          "output_type": "stream",
          "name": "stdout",
          "text": [
            "Matrix is Null\n"
          ]
        }
      ]
    },
    {
      "cell_type": "markdown",
      "metadata": {
        "id": "94tdqW_WIfrS"
      },
      "source": [
        "#### Zero Matrix"
      ]
    },
    {
      "cell_type": "markdown",
      "metadata": {
        "id": "3RowK1awIfrT"
      },
      "source": [
        "A zero matrix can be any rectangular matrix but with all elements having a value of 0."
      ]
    },
    {
      "cell_type": "code",
      "metadata": {
        "id": "4OTDdIJpIfrT",
        "outputId": "973d1688-eca5-426a-b1e6-52581aee7d77",
        "colab": {
          "base_uri": "https://localhost:8080/"
        }
      },
      "source": [
        "zero_mat_row = np.zeros((1,2))\n",
        "zero_mat_sqr = np.zeros((2,2))\n",
        "zero_mat_rct = np.zeros((3,2))\n",
        "\n",
        "print(f'Zero Row Matrix: \\n{zero_mat_row}')\n",
        "print(f'Zero Square Matrix: \\n{zero_mat_sqr}')\n",
        "print(f'Zero Rectangular Matrix: \\n{zero_mat_rct}')"
      ],
      "execution_count": 15,
      "outputs": [
        {
          "output_type": "stream",
          "name": "stdout",
          "text": [
            "Zero Row Matrix: \n",
            "[[0. 0.]]\n",
            "Zero Square Matrix: \n",
            "[[0. 0.]\n",
            " [0. 0.]]\n",
            "Zero Rectangular Matrix: \n",
            "[[0. 0.]\n",
            " [0. 0.]\n",
            " [0. 0.]]\n"
          ]
        }
      ]
    },
    {
      "cell_type": "markdown",
      "metadata": {
        "id": "lbaJywWGIfrT"
      },
      "source": [
        "#### Ones Matrix"
      ]
    },
    {
      "cell_type": "markdown",
      "metadata": {
        "id": "8Gm8dcEGIfrU"
      },
      "source": [
        "A ones matrix, just like the zero matrix, can be any rectangular matrix but all of its elements are 1s instead of 0s."
      ]
    },
    {
      "cell_type": "code",
      "metadata": {
        "id": "p3pKYJ7tIfrV",
        "outputId": "d57bc6e2-92b8-41a7-8f86-acf7d5163736",
        "colab": {
          "base_uri": "https://localhost:8080/"
        }
      },
      "source": [
        "ones_mat_row = np.ones((1,2))\n",
        "ones_mat_sqr = np.ones((2,2))\n",
        "ones_mat_rct = np.ones((3,2))\n",
        "\n",
        "print(f'Ones Row Matrix: \\n{ones_mat_row}')\n",
        "print(f'Ones Square Matrix: \\n{ones_mat_sqr}')\n",
        "print(f'Ones Rectangular Matrix: \\n{ones_mat_rct}')"
      ],
      "execution_count": 16,
      "outputs": [
        {
          "output_type": "stream",
          "name": "stdout",
          "text": [
            "Ones Row Matrix: \n",
            "[[1. 1.]]\n",
            "Ones Square Matrix: \n",
            "[[1. 1.]\n",
            " [1. 1.]]\n",
            "Ones Rectangular Matrix: \n",
            "[[1. 1.]\n",
            " [1. 1.]\n",
            " [1. 1.]]\n"
          ]
        }
      ]
    },
    {
      "cell_type": "markdown",
      "metadata": {
        "id": "bmAN6cw9IfrV"
      },
      "source": [
        "#### Diagonal Matrix"
      ]
    },
    {
      "cell_type": "markdown",
      "metadata": {
        "id": "Gca0d_gEIfrV"
      },
      "source": [
        "A diagonal matrix is a square matrix that has values only at the diagonal of the matrix. "
      ]
    },
    {
      "cell_type": "code",
      "metadata": {
        "id": "EEbog8hUIfrW",
        "outputId": "b25ede46-b706-477e-d71c-76d64192c6ff",
        "colab": {
          "base_uri": "https://localhost:8080/"
        }
      },
      "source": [
        "np.array([\n",
        "    [2,0,0],\n",
        "    [0,3,0],\n",
        "    [0,0,5]\n",
        "])\n",
        "# a[1,1], a[2,2], a[3,3], ... a[n-1,n-1]"
      ],
      "execution_count": 17,
      "outputs": [
        {
          "output_type": "execute_result",
          "data": {
            "text/plain": [
              "array([[2, 0, 0],\n",
              "       [0, 3, 0],\n",
              "       [0, 0, 5]])"
            ]
          },
          "metadata": {},
          "execution_count": 17
        }
      ]
    },
    {
      "cell_type": "code",
      "metadata": {
        "id": "wHIIyLy-IfrW",
        "outputId": "9938dae6-f2bf-409f-cc6a-9f39c2c59b53",
        "colab": {
          "base_uri": "https://localhost:8080/"
        }
      },
      "source": [
        "d = np.diag([2,3,5,7])\n",
        "np.diag(d).shape == d.shape[0] == d.shape[1]\n"
      ],
      "execution_count": 18,
      "outputs": [
        {
          "output_type": "execute_result",
          "data": {
            "text/plain": [
              "False"
            ]
          },
          "metadata": {},
          "execution_count": 18
        }
      ]
    },
    {
      "cell_type": "markdown",
      "metadata": {
        "id": "PHjuyEhgIfrW"
      },
      "source": [
        "#### Identity Matrix"
      ]
    },
    {
      "cell_type": "markdown",
      "metadata": {
        "id": "T8H7CS0VIfrX"
      },
      "source": [
        "An identity matrix is a special diagonal matrix in which the values at the diagonal are ones."
      ]
    },
    {
      "cell_type": "code",
      "metadata": {
        "id": "rBpX9tvlIfrX",
        "outputId": "af06238c-2f53-4844-c5b0-1f87cca4613b",
        "colab": {
          "base_uri": "https://localhost:8080/"
        }
      },
      "source": [
        "np.eye(5)"
      ],
      "execution_count": 19,
      "outputs": [
        {
          "output_type": "execute_result",
          "data": {
            "text/plain": [
              "array([[1., 0., 0., 0., 0.],\n",
              "       [0., 1., 0., 0., 0.],\n",
              "       [0., 0., 1., 0., 0.],\n",
              "       [0., 0., 0., 1., 0.],\n",
              "       [0., 0., 0., 0., 1.]])"
            ]
          },
          "metadata": {},
          "execution_count": 19
        }
      ]
    },
    {
      "cell_type": "code",
      "metadata": {
        "id": "FCUnfPVUIfrX",
        "outputId": "9bbe68be-ad94-476c-e975-a4f8a889b8e5",
        "colab": {
          "base_uri": "https://localhost:8080/"
        }
      },
      "source": [
        "np.identity(5)"
      ],
      "execution_count": 20,
      "outputs": [
        {
          "output_type": "execute_result",
          "data": {
            "text/plain": [
              "array([[1., 0., 0., 0., 0.],\n",
              "       [0., 1., 0., 0., 0.],\n",
              "       [0., 0., 1., 0., 0.],\n",
              "       [0., 0., 0., 1., 0.],\n",
              "       [0., 0., 0., 0., 1.]])"
            ]
          },
          "metadata": {},
          "execution_count": 20
        }
      ]
    },
    {
      "cell_type": "markdown",
      "metadata": {
        "id": "AmFuUYK-IfrY"
      },
      "source": [
        "#### Upper Triangular Matrix"
      ]
    },
    {
      "cell_type": "markdown",
      "metadata": {
        "id": "OKc2vrotIfrY"
      },
      "source": [
        "An upper triangular matrix is a matrix that has no values below the diagonal. "
      ]
    },
    {
      "cell_type": "code",
      "metadata": {
        "id": "6Y97Cf2dIfrY",
        "outputId": "fbd7307d-3639-4c67-d355-75186411f8ee",
        "colab": {
          "base_uri": "https://localhost:8080/"
        }
      },
      "source": [
        "np.array([\n",
        "    [1,2,3],\n",
        "    [0,3,1],\n",
        "    [0,0,5]\n",
        "])"
      ],
      "execution_count": 21,
      "outputs": [
        {
          "output_type": "execute_result",
          "data": {
            "text/plain": [
              "array([[1, 2, 3],\n",
              "       [0, 3, 1],\n",
              "       [0, 0, 5]])"
            ]
          },
          "metadata": {},
          "execution_count": 21
        }
      ]
    },
    {
      "cell_type": "markdown",
      "metadata": {
        "id": "OCo9DMx-IfrY"
      },
      "source": [
        "#### Lower Triangular Matrix"
      ]
    },
    {
      "cell_type": "markdown",
      "metadata": {
        "id": "yUn0BrexIfrY"
      },
      "source": [
        "A lower triangular matrix is a matrix that has no values above the diagonal."
      ]
    },
    {
      "cell_type": "code",
      "metadata": {
        "id": "24C8ufD4IfrZ",
        "outputId": "1c8b34a9-39c3-4b55-c637-c4afa9cd68a1",
        "colab": {
          "base_uri": "https://localhost:8080/"
        }
      },
      "source": [
        "np.array([\n",
        "    [1,0,0],\n",
        "    [5,3,0],\n",
        "    [7,8,5]\n",
        "])"
      ],
      "execution_count": 22,
      "outputs": [
        {
          "output_type": "execute_result",
          "data": {
            "text/plain": [
              "array([[1, 0, 0],\n",
              "       [5, 3, 0],\n",
              "       [7, 8, 5]])"
            ]
          },
          "metadata": {},
          "execution_count": 22
        }
      ]
    },
    {
      "cell_type": "markdown",
      "metadata": {
        "id": "GoI65w8gIfrZ"
      },
      "source": [
        "## Practice"
      ]
    },
    {
      "cell_type": "markdown",
      "metadata": {
        "id": "0FnWxIO-IfrZ"
      },
      "source": [
        "1. Given the linear combination below, try to create a corresponding matrix representing it."
      ]
    },
    {
      "cell_type": "markdown",
      "metadata": {
        "id": "mQHWB7CBIfrZ"
      },
      "source": [
        "$$\\theta = 5x + 3y - z$$"
      ]
    },
    {
      "cell_type": "code",
      "metadata": {
        "id": "oa1p8WDCIfrZ"
      },
      "source": [
        ""
      ],
      "execution_count": 22,
      "outputs": []
    },
    {
      "cell_type": "markdown",
      "metadata": {
        "id": "O-mXYIEcIfra"
      },
      "source": [
        "2. Given the system of linear combinations below, try to encode it as a matrix. Also describe the matrix."
      ]
    },
    {
      "cell_type": "markdown",
      "metadata": {
        "id": "5rsz78fcIfra"
      },
      "source": [
        "$$\n",
        "A = \\left\\{\\begin{array}\n",
        "5x_1 + 2x_2 +x_3\\\\\n",
        "4x_2 - x_3\\\\\n",
        "10x_3\n",
        "\\end{array}\\right.\n",
        "$$"
      ]
    },
    {
      "cell_type": "code",
      "metadata": {
        "id": "uiHCSSsUIfra"
      },
      "source": [
        ""
      ],
      "execution_count": null,
      "outputs": []
    },
    {
      "cell_type": "markdown",
      "metadata": {
        "id": "9GE3XH5dIfra"
      },
      "source": [
        "3. Given the matrix below, express it as a linear combination in a markdown."
      ]
    },
    {
      "cell_type": "code",
      "metadata": {
        "id": "yTyAfGnQIfrb"
      },
      "source": [
        "G = np.array([\n",
        "    [1,7,8],\n",
        "    [2,2,2],\n",
        "    [4,6,7]\n",
        "])\n"
      ],
      "execution_count": null,
      "outputs": []
    },
    {
      "cell_type": "markdown",
      "metadata": {
        "id": "_escyDoQIfrb"
      },
      "source": [
        ""
      ]
    },
    {
      "cell_type": "markdown",
      "metadata": {
        "id": "DoxHQbPNIfrb"
      },
      "source": [
        ""
      ]
    },
    {
      "cell_type": "markdown",
      "metadata": {
        "id": "iFi-YaEFIfrb"
      },
      "source": [
        "4. Given the matrix below, display the output as a LaTeX makdown also express it as a system of linear combinations."
      ]
    },
    {
      "cell_type": "code",
      "metadata": {
        "id": "zXF2QjjRIfrd",
        "colab": {
          "base_uri": "https://localhost:8080/"
        },
        "outputId": "4b4deddc-6899-4cdb-f5ad-a764187ce9ee"
      },
      "source": [
        "H = np.tril(G)\n",
        "H"
      ],
      "execution_count": null,
      "outputs": [
        {
          "output_type": "execute_result",
          "data": {
            "text/plain": [
              "array([[1, 0, 0],\n",
              "       [2, 2, 0],\n",
              "       [4, 6, 7]])"
            ]
          },
          "metadata": {},
          "execution_count": 7
        }
      ]
    },
    {
      "cell_type": "markdown",
      "metadata": {
        "id": "mfSTAHWnIfrd"
      },
      "source": [
        "# Matrix Algebra"
      ]
    },
    {
      "cell_type": "markdown",
      "metadata": {
        "id": "SDneQveAIfre"
      },
      "source": [
        "### Addition"
      ]
    },
    {
      "cell_type": "code",
      "metadata": {
        "id": "b_3fGY_OIfre",
        "colab": {
          "base_uri": "https://localhost:8080/"
        },
        "outputId": "73ec8e9c-b575-497d-ceb9-2d01891231e9"
      },
      "source": [
        "A = np.array([\n",
        "    [1,2],\n",
        "    [2,3],\n",
        "    [4,1]\n",
        "])\n",
        "B = np.array([\n",
        "    [2,2],\n",
        "    [0,0],\n",
        "    [1,1]\n",
        "])\n",
        "A+B"
      ],
      "execution_count": 23,
      "outputs": [
        {
          "output_type": "execute_result",
          "data": {
            "text/plain": [
              "array([[3, 4],\n",
              "       [2, 3],\n",
              "       [5, 2]])"
            ]
          },
          "metadata": {},
          "execution_count": 23
        }
      ]
    },
    {
      "cell_type": "code",
      "metadata": {
        "id": "vccc1a0vIfre",
        "colab": {
          "base_uri": "https://localhost:8080/"
        },
        "outputId": "1ad4189f-8a55-4b8c-ef11-2434f3765597"
      },
      "source": [
        "2+A ##Broadcasting\n",
        "# 2*np.ones(A.shape)+A"
      ],
      "execution_count": 24,
      "outputs": [
        {
          "output_type": "execute_result",
          "data": {
            "text/plain": [
              "array([[3, 4],\n",
              "       [4, 5],\n",
              "       [6, 3]])"
            ]
          },
          "metadata": {},
          "execution_count": 24
        }
      ]
    },
    {
      "cell_type": "markdown",
      "metadata": {
        "id": "BH5DsrBcIfre"
      },
      "source": [
        "### Subtraction"
      ]
    },
    {
      "cell_type": "code",
      "metadata": {
        "collapsed": true,
        "jupyter": {
          "outputs_hidden": true
        },
        "id": "U9QRMNzpIfrf",
        "colab": {
          "base_uri": "https://localhost:8080/"
        },
        "outputId": "2d269d3d-3990-4aca-cc79-53ed2470d0e7"
      },
      "source": [
        "A-B"
      ],
      "execution_count": 25,
      "outputs": [
        {
          "output_type": "execute_result",
          "data": {
            "text/plain": [
              "array([[-1,  0],\n",
              "       [ 2,  3],\n",
              "       [ 3,  0]])"
            ]
          },
          "metadata": {},
          "execution_count": 25
        }
      ]
    },
    {
      "cell_type": "code",
      "metadata": {
        "id": "cG-mLLrJIfrf",
        "colab": {
          "base_uri": "https://localhost:8080/"
        },
        "outputId": "70c2d1e9-450c-43a5-bf49-726baec1d03c"
      },
      "source": [
        "3-B == 3*np.ones(B.shape)-B"
      ],
      "execution_count": 26,
      "outputs": [
        {
          "output_type": "execute_result",
          "data": {
            "text/plain": [
              "array([[ True,  True],\n",
              "       [ True,  True],\n",
              "       [ True,  True]])"
            ]
          },
          "metadata": {},
          "execution_count": 26
        }
      ]
    },
    {
      "cell_type": "markdown",
      "metadata": {
        "id": "CV40q5YlIfrf"
      },
      "source": [
        "### Element-wise Multiplication"
      ]
    },
    {
      "cell_type": "code",
      "metadata": {
        "id": "OtFq5mpcIfrf",
        "colab": {
          "base_uri": "https://localhost:8080/"
        },
        "outputId": "fe439984-5bb8-4651-8857-b07ba8a80a8d"
      },
      "source": [
        "A*B\n",
        "np.multiply(A,B)"
      ],
      "execution_count": 27,
      "outputs": [
        {
          "output_type": "execute_result",
          "data": {
            "text/plain": [
              "array([[2, 4],\n",
              "       [0, 0],\n",
              "       [4, 1]])"
            ]
          },
          "metadata": {},
          "execution_count": 27
        }
      ]
    },
    {
      "cell_type": "code",
      "metadata": {
        "id": "lRKOpw5tIfrg",
        "colab": {
          "base_uri": "https://localhost:8080/"
        },
        "outputId": "fdb82abc-d327-4c61-9b13-16440dd46c43"
      },
      "source": [
        "2*A"
      ],
      "execution_count": 28,
      "outputs": [
        {
          "output_type": "execute_result",
          "data": {
            "text/plain": [
              "array([[2, 4],\n",
              "       [4, 6],\n",
              "       [8, 2]])"
            ]
          },
          "metadata": {},
          "execution_count": 28
        }
      ]
    },
    {
      "cell_type": "code",
      "metadata": {
        "id": "bbyz0Z2pHTB1"
      },
      "source": [
        "A@B"
      ],
      "execution_count": null,
      "outputs": []
    },
    {
      "cell_type": "code",
      "metadata": {
        "id": "8iLA6q_lIfrg",
        "colab": {
          "base_uri": "https://localhost:8080/"
        },
        "outputId": "64718a52-f930-498d-b0c0-7778101d4690"
      },
      "source": [
        "alpha=10**-10\n",
        "A/(alpha+B)"
      ],
      "execution_count": null,
      "outputs": [
        {
          "output_type": "execute_result",
          "data": {
            "text/plain": [
              "array([[5.e-01, 1.e+00],\n",
              "       [2.e+10, 3.e+10],\n",
              "       [4.e+00, 1.e+00]])"
            ]
          },
          "metadata": {},
          "execution_count": 30
        }
      ]
    },
    {
      "cell_type": "code",
      "metadata": {
        "id": "gQm11rgpIfrg",
        "outputId": "f63ee2f3-50fd-45e7-a618-9fb397d78ea7"
      },
      "source": [
        "np.add(A,B)"
      ],
      "execution_count": null,
      "outputs": [
        {
          "output_type": "execute_result",
          "data": {
            "text/plain": [
              "array([[3, 4],\n",
              "       [2, 3],\n",
              "       [5, 2]])"
            ]
          },
          "metadata": {
            "tags": []
          },
          "execution_count": 66
        }
      ]
    },
    {
      "cell_type": "markdown",
      "metadata": {
        "id": "HUOT_9BWIfrg"
      },
      "source": [
        "## Activity"
      ]
    },
    {
      "cell_type": "markdown",
      "metadata": {
        "id": "8GUiKVDeIfrh"
      },
      "source": [
        "### Task 1"
      ]
    },
    {
      "cell_type": "markdown",
      "metadata": {
        "id": "jj9MWQHdIfrh"
      },
      "source": [
        "Create a function named `mat_desc()` that througouhly describes a matrix, it should: <br>\n",
        "1. Displays the shape, size, and rank of the matrix. <br>\n",
        "2. Displays whether the matrix is square or non-square. <br>\n",
        "3. Displays whether the matrix is an empty matrix. <br>\n",
        "4. Displays if the matrix is an identity, ones, or zeros matrix <br>\n",
        "   \n",
        "Use 5 sample matrices in which their shapes are not lower than $(3,3)$.\n",
        "In your methodology, create a flowchart discuss the functions and methods you have done. Present your results in the results section showing the description of each matrix you have declared."
      ]
    },
    {
      "cell_type": "code",
      "metadata": {
        "id": "C4kEil7TIfrh"
      },
      "source": [
        "## Function area"
      ],
      "execution_count": null,
      "outputs": []
    },
    {
      "cell_type": "code",
      "metadata": {
        "id": "WIdSjZKcIfrh"
      },
      "source": [
        "## Matrix declarations"
      ],
      "execution_count": null,
      "outputs": []
    },
    {
      "cell_type": "code",
      "metadata": {
        "id": "uwD8YeVbIfrh"
      },
      "source": [
        "## Test Areas"
      ],
      "execution_count": null,
      "outputs": []
    },
    {
      "cell_type": "markdown",
      "metadata": {
        "id": "e6ZGoLgLIfri"
      },
      "source": [
        "### Task 2"
      ]
    },
    {
      "cell_type": "markdown",
      "metadata": {
        "id": "Z6yZ3_7pIfri"
      },
      "source": [
        "Create a function named `mat_operations()` that takes in two matrices a input parameters it should:<br>\n",
        " 1. Determines if the matrices are viable for operation and returns your own error message if they are not viable.\n",
        " 2. Returns the sum of the matrices.\n",
        " 3. Returns the differen of the matrices.\n",
        " 4. Returns the element-wise multiplication of the matrices.\n",
        " 5. Returns the element-wise division of the matrices.\n",
        "\n",
        "Use 5 sample matrices in which their shapes are not lower than $(3,3)$.\n",
        "In your methodology, create a flowchart discuss the functions and methods you have done. Present your results in the results section showing the description of each matrix you have declared."
      ]
    },
    {
      "cell_type": "code",
      "metadata": {
        "id": "XRtDBMVNIfri"
      },
      "source": [
        ""
      ],
      "execution_count": null,
      "outputs": []
    },
    {
      "cell_type": "code",
      "metadata": {
        "id": "X5UT3MtGIfri"
      },
      "source": [
        ""
      ],
      "execution_count": null,
      "outputs": []
    },
    {
      "cell_type": "code",
      "metadata": {
        "id": "Sms7j22UIfri"
      },
      "source": [
        ""
      ],
      "execution_count": null,
      "outputs": []
    },
    {
      "cell_type": "markdown",
      "metadata": {
        "id": "V4LRAK6vIfri"
      },
      "source": [
        "## Conclusion"
      ]
    },
    {
      "cell_type": "markdown",
      "metadata": {
        "id": "qI0-MOPMIfrj"
      },
      "source": [
        "For your conclusion synthesize the concept and application of the laboratory. Briefly discuss what you have learned and achieved in this activity. Also answer the question: \"How can matrix operations solve problems in technology?\"."
      ]
    }
  ]
}