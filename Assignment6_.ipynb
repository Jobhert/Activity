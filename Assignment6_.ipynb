{
  "nbformat": 4,
  "nbformat_minor": 0,
  "metadata": {
    "colab": {
      "name": "Assignment6 .ipynb",
      "provenance": [],
      "authorship_tag": "ABX9TyOLCB2CEUG4nnVZs58bLkha",
      "include_colab_link": true
    },
    "kernelspec": {
      "name": "python3",
      "display_name": "Python 3"
    },
    "language_info": {
      "name": "python"
    }
  },
  "cells": [
    {
      "cell_type": "markdown",
      "metadata": {
        "id": "view-in-github",
        "colab_type": "text"
      },
      "source": [
        "<a href=\"https://colab.research.google.com/github/Jobhert/Activity/blob/main/Assignment6_.ipynb\" target=\"_parent\"><img src=\"https://colab.research.google.com/assets/colab-badge.svg\" alt=\"Open In Colab\"/></a>"
      ]
    },
    {
      "cell_type": "markdown",
      "metadata": {
        "id": "6kX6p8CtEXw9"
      },
      "source": [
        "##Linear Algebra for ECE\n",
        "### Labaratory 6 : Matrix Operation"
      ]
    },
    {
      "cell_type": "markdown",
      "metadata": {
        "id": "Rant42moEbg0"
      },
      "source": [
        "\n",
        "Now that you have a fundamental knowledge about representing and operating with vectocs as well as the fundamentals of matrices, we'll try to the same operations with matrices even more.\n",
        "\n",
        "\n"
      ]
    },
    {
      "cell_type": "markdown",
      "metadata": {
        "id": "njDmr1TCEmv1"
      },
      "source": [
        "###Objectives\n",
        "\n",
        "At the end of this activity you will be able to:\n",
        "1. Be familiar with the fundamental matrix operations.\n",
        "2. Apply the operations to solve intemrediate equations.\n",
        "3. Apply matrix algebra in engineering solutions. "
      ]
    },
    {
      "cell_type": "markdown",
      "metadata": {
        "id": "LWns3BufFVKF"
      },
      "source": [
        "##Discussion"
      ]
    },
    {
      "cell_type": "code",
      "metadata": {
        "id": "TovijS6CFi5r"
      },
      "source": [
        "import numpy as np\n",
        "import matplotlib.pyplot as plt\n",
        "%matplotlib inline"
      ],
      "execution_count": 1,
      "outputs": []
    },
    {
      "cell_type": "markdown",
      "metadata": {
        "id": "tZUTE6kXHHI5"
      },
      "source": [
        "##Transposition"
      ]
    },
    {
      "cell_type": "markdown",
      "metadata": {
        "id": "CGC07Uv1HK_V"
      },
      "source": [
        "One of the fundamental operations in matrix algebra is Transposition. The transpose of a matrix is done by flipping the values of its elements over its diagonals. With this, the rows and columns from the original matrix will be switched. So for a matrix *A* its transpose is denoted as $A^T$.\n",
        "So for example.\n"
      ]
    },
    {
      "cell_type": "markdown",
      "metadata": {
        "id": "KHtHyAmWHsGy"
      },
      "source": [
        "$$A = \\begin{bmatrix} 1 & 2 & 5\\\\5 & -1 &0 \\\\ 0 & -3 & 3\\end{bmatrix} $$\n"
      ]
    },
    {
      "cell_type": "markdown",
      "metadata": {
        "id": "9TSFFKNcIYJ4"
      },
      "source": [
        "This can now be achived programmaticaly by using np.transpose() or using the T method"
      ]
    },
    {
      "cell_type": "code",
      "metadata": {
        "colab": {
          "base_uri": "https://localhost:8080/"
        },
        "id": "xioaEdgxIhyS",
        "outputId": "b5312a16-0e1d-47ff-9818-9aab4a5d22a9"
      },
      "source": [
        "A = np.array([\n",
        "    [1, 2, 5],\n",
        "    [5, -1, 0],\n",
        "    [0, -3, 3]\n",
        "])\n",
        "A"
      ],
      "execution_count": 2,
      "outputs": [
        {
          "output_type": "execute_result",
          "data": {
            "text/plain": [
              "array([[ 1,  2,  5],\n",
              "       [ 5, -1,  0],\n",
              "       [ 0, -3,  3]])"
            ]
          },
          "metadata": {},
          "execution_count": 2
        }
      ]
    },
    {
      "cell_type": "code",
      "metadata": {
        "colab": {
          "base_uri": "https://localhost:8080/"
        },
        "id": "rDDhcUXlI2Dl",
        "outputId": "03a6fd61-eb03-41d1-c234-eb314f2baabb"
      },
      "source": [
        "AT1 = np.transpose(A)\n",
        "AT1"
      ],
      "execution_count": 3,
      "outputs": [
        {
          "output_type": "execute_result",
          "data": {
            "text/plain": [
              "array([[ 1,  5,  0],\n",
              "       [ 2, -1, -3],\n",
              "       [ 5,  0,  3]])"
            ]
          },
          "metadata": {},
          "execution_count": 3
        }
      ]
    },
    {
      "cell_type": "code",
      "metadata": {
        "colab": {
          "base_uri": "https://localhost:8080/"
        },
        "id": "bRWydw6fK4Af",
        "outputId": "da8e3e95-db9e-42ed-e18b-2111cf3a1672"
      },
      "source": [
        "AT2 = A.T\n",
        "AT2"
      ],
      "execution_count": 7,
      "outputs": [
        {
          "output_type": "execute_result",
          "data": {
            "text/plain": [
              "array([[ 1,  5,  0],\n",
              "       [ 2, -1, -3],\n",
              "       [ 5,  0,  3]])"
            ]
          },
          "metadata": {},
          "execution_count": 7
        }
      ]
    },
    {
      "cell_type": "code",
      "metadata": {
        "colab": {
          "base_uri": "https://localhost:8080/"
        },
        "id": "_vBaFe4-JSph",
        "outputId": "595fc4f9-0f39-47e1-fbdc-d65431321c8b"
      },
      "source": [
        "np.array_equiv(AT1, AT2)"
      ],
      "execution_count": 8,
      "outputs": [
        {
          "output_type": "execute_result",
          "data": {
            "text/plain": [
              "True"
            ]
          },
          "metadata": {},
          "execution_count": 8
        }
      ]
    },
    {
      "cell_type": "code",
      "metadata": {
        "colab": {
          "base_uri": "https://localhost:8080/"
        },
        "id": "MV8mSLt4Keiy",
        "outputId": "b6054ed9-6695-47aa-a55c-0505dd808769"
      },
      "source": [
        "B = np.array([\n",
        "    [1, 2, 3, 4],\n",
        "    [1, 0, 2, 1],\n",
        "])\n",
        "B.shape"
      ],
      "execution_count": 6,
      "outputs": [
        {
          "output_type": "execute_result",
          "data": {
            "text/plain": [
              "(2, 4)"
            ]
          },
          "metadata": {},
          "execution_count": 6
        }
      ]
    },
    {
      "cell_type": "code",
      "metadata": {
        "colab": {
          "base_uri": "https://localhost:8080/"
        },
        "id": "evdpVTg3K9N4",
        "outputId": "9219f839-2186-49cd-b891-1bd6d216aaf1"
      },
      "source": [
        "np.transpose(B).shape"
      ],
      "execution_count": 9,
      "outputs": [
        {
          "output_type": "execute_result",
          "data": {
            "text/plain": [
              "(4, 2)"
            ]
          },
          "metadata": {},
          "execution_count": 9
        }
      ]
    },
    {
      "cell_type": "code",
      "metadata": {
        "colab": {
          "base_uri": "https://localhost:8080/"
        },
        "id": "OP00r2NoLC74",
        "outputId": "5cde22c4-0729-407a-9c11-5ea9a7e11d59"
      },
      "source": [
        "B.T.shape"
      ],
      "execution_count": 10,
      "outputs": [
        {
          "output_type": "execute_result",
          "data": {
            "text/plain": [
              "(4, 2)"
            ]
          },
          "metadata": {},
          "execution_count": 10
        }
      ]
    },
    {
      "cell_type": "markdown",
      "metadata": {
        "id": "aHLnc2zILG2C"
      },
      "source": [
        "Try to create your own matrix (you can try non-squares) to test transposition"
      ]
    },
    {
      "cell_type": "code",
      "metadata": {
        "colab": {
          "base_uri": "https://localhost:8080/"
        },
        "id": "ak34-iofMqGu",
        "outputId": "13a39cda-b223-4088-b652-9956336e24d8"
      },
      "source": [
        "C=np.array([\n",
        "    [4,7,9],\n",
        "    [1,2,8]        \n",
        "])\n",
        "C.shape"
      ],
      "execution_count": 15,
      "outputs": [
        {
          "output_type": "execute_result",
          "data": {
            "text/plain": [
              "(2, 3)"
            ]
          },
          "metadata": {},
          "execution_count": 15
        }
      ]
    },
    {
      "cell_type": "code",
      "metadata": {
        "colab": {
          "base_uri": "https://localhost:8080/"
        },
        "id": "OPawcS78MwvR",
        "outputId": "15cf1134-98bd-49ef-a38c-02ebff05bf7f"
      },
      "source": [
        "np.transpose(C).shape\n"
      ],
      "execution_count": 16,
      "outputs": [
        {
          "output_type": "execute_result",
          "data": {
            "text/plain": [
              "(3, 2)"
            ]
          },
          "metadata": {},
          "execution_count": 16
        }
      ]
    },
    {
      "cell_type": "code",
      "metadata": {
        "colab": {
          "base_uri": "https://localhost:8080/"
        },
        "id": "xGp2RgYJM1Du",
        "outputId": "02ec1fc0-9782-4821-de84-edc5b6d47b78"
      },
      "source": [
        "C.T.shape\n"
      ],
      "execution_count": 17,
      "outputs": [
        {
          "output_type": "execute_result",
          "data": {
            "text/plain": [
              "(3, 2)"
            ]
          },
          "metadata": {},
          "execution_count": 17
        }
      ]
    },
    {
      "cell_type": "markdown",
      "metadata": {
        "id": "fuKUVVshNynO"
      },
      "source": [
        "##Dot product"
      ]
    },
    {
      "cell_type": "code",
      "metadata": {
        "id": "_GhXh0i6OFVG"
      },
      "source": [
        "X = np.array([\n",
        "    [1,2],\n",
        "    [0,1]\n",
        "])\n",
        "Y = np.array([\n",
        "    [-1,0],\n",
        "    [2,2]\n",
        "])"
      ],
      "execution_count": 18,
      "outputs": []
    },
    {
      "cell_type": "code",
      "metadata": {
        "colab": {
          "base_uri": "https://localhost:8080/"
        },
        "id": "KESw2QH9OHxd",
        "outputId": "02986e47-1a04-4bb9-f105-e4c9dd693e7d"
      },
      "source": [
        "np.dot(X, Y)"
      ],
      "execution_count": 19,
      "outputs": [
        {
          "output_type": "execute_result",
          "data": {
            "text/plain": [
              "array([[3, 4],\n",
              "       [2, 2]])"
            ]
          },
          "metadata": {},
          "execution_count": 19
        }
      ]
    },
    {
      "cell_type": "code",
      "metadata": {
        "colab": {
          "base_uri": "https://localhost:8080/"
        },
        "id": "xU8GhMUgOMe7",
        "outputId": "45b50615-737b-42fd-922c-528926902dd2"
      },
      "source": [
        "X.dot(Y)"
      ],
      "execution_count": 20,
      "outputs": [
        {
          "output_type": "execute_result",
          "data": {
            "text/plain": [
              "array([[3, 4],\n",
              "       [2, 2]])"
            ]
          },
          "metadata": {},
          "execution_count": 20
        }
      ]
    },
    {
      "cell_type": "code",
      "metadata": {
        "colab": {
          "base_uri": "https://localhost:8080/"
        },
        "id": "qzghae24OQcE",
        "outputId": "1d03faf9-84a9-46bc-ea43-91f5c1c2f687"
      },
      "source": [
        "X @ Y"
      ],
      "execution_count": 21,
      "outputs": [
        {
          "output_type": "execute_result",
          "data": {
            "text/plain": [
              "array([[3, 4],\n",
              "       [2, 2]])"
            ]
          },
          "metadata": {},
          "execution_count": 21
        }
      ]
    },
    {
      "cell_type": "code",
      "metadata": {
        "colab": {
          "base_uri": "https://localhost:8080/"
        },
        "id": "mX1hiHsLOR1q",
        "outputId": "6145c2ed-3375-4976-cd33-0c0d1e30702d"
      },
      "source": [
        "np.matmul(X, Y)"
      ],
      "execution_count": 23,
      "outputs": [
        {
          "output_type": "execute_result",
          "data": {
            "text/plain": [
              "array([[3, 4],\n",
              "       [2, 2]])"
            ]
          },
          "metadata": {},
          "execution_count": 23
        }
      ]
    },
    {
      "cell_type": "markdown",
      "metadata": {
        "id": "MFKnTtp_PwVS"
      },
      "source": [
        "Test"
      ]
    },
    {
      "cell_type": "code",
      "metadata": {
        "id": "8hfYAPfBPymc"
      },
      "source": [
        "D=np.array([\n",
        "     [1,1,0],\n",
        "     [0,1,1],\n",
        "     [1,0,1]       \n",
        "])\n",
        "E=np.array([\n",
        "     [5,8,0],\n",
        "     [3,1,1],\n",
        "     [4,6,7]       \n",
        "])"
      ],
      "execution_count": 25,
      "outputs": []
    },
    {
      "cell_type": "code",
      "metadata": {
        "colab": {
          "base_uri": "https://localhost:8080/"
        },
        "id": "dJKImf_6P2jd",
        "outputId": "0b9cbb05-10b1-41b4-f41c-8ade0cec5a5e"
      },
      "source": [
        "np.dot(D, E)"
      ],
      "execution_count": 26,
      "outputs": [
        {
          "output_type": "execute_result",
          "data": {
            "text/plain": [
              "array([[ 8,  9,  1],\n",
              "       [ 7,  7,  8],\n",
              "       [ 9, 14,  7]])"
            ]
          },
          "metadata": {},
          "execution_count": 26
        }
      ]
    },
    {
      "cell_type": "code",
      "metadata": {
        "colab": {
          "base_uri": "https://localhost:8080/"
        },
        "id": "TI5ZasprP339",
        "outputId": "5d2ae440-20d9-4088-fe7c-2e2667e8d759"
      },
      "source": [
        "D.dot(E)"
      ],
      "execution_count": 27,
      "outputs": [
        {
          "output_type": "execute_result",
          "data": {
            "text/plain": [
              "array([[ 8,  9,  1],\n",
              "       [ 7,  7,  8],\n",
              "       [ 9, 14,  7]])"
            ]
          },
          "metadata": {},
          "execution_count": 27
        }
      ]
    },
    {
      "cell_type": "code",
      "metadata": {
        "colab": {
          "base_uri": "https://localhost:8080/"
        },
        "id": "FLAZoRZOP57z",
        "outputId": "2c6c4164-6d8c-4153-d7df-fc7a4f8143ac"
      },
      "source": [
        "D @ E"
      ],
      "execution_count": 28,
      "outputs": [
        {
          "output_type": "execute_result",
          "data": {
            "text/plain": [
              "array([[ 8,  9,  1],\n",
              "       [ 7,  7,  8],\n",
              "       [ 9, 14,  7]])"
            ]
          },
          "metadata": {},
          "execution_count": 28
        }
      ]
    },
    {
      "cell_type": "code",
      "metadata": {
        "colab": {
          "base_uri": "https://localhost:8080/"
        },
        "id": "k43JGKUHP9Py",
        "outputId": "79b8ab45-86ea-4565-91b9-527790284f47"
      },
      "source": [
        "np.matmul(D, E)"
      ],
      "execution_count": 29,
      "outputs": [
        {
          "output_type": "execute_result",
          "data": {
            "text/plain": [
              "array([[ 8,  9,  1],\n",
              "       [ 7,  7,  8],\n",
              "       [ 9, 14,  7]])"
            ]
          },
          "metadata": {},
          "execution_count": 29
        }
      ]
    },
    {
      "cell_type": "markdown",
      "metadata": {
        "id": "eQ88SbmeQbNy"
      },
      "source": [
        "##Print"
      ]
    },
    {
      "cell_type": "code",
      "metadata": {
        "colab": {
          "base_uri": "https://localhost:8080/"
        },
        "id": "3PVU-zIEQrHF",
        "outputId": "2fbf1128-763e-4ab8-898c-20583a81024a"
      },
      "source": [
        "A = np.array([\n",
        "    [2, 4],\n",
        "    [5, -2],\n",
        "    [0, 1]\n",
        "])\n",
        "B = np.array([\n",
        "    [1, 1],\n",
        "    [3, 3],\n",
        "    [-1, -2]\n",
        "])\n",
        "C = np.array([\n",
        "    [0, 1, 1],\n",
        "    [1, 1, 2]\n",
        "])\n",
        "print(A.shape)\n",
        "print(B.shape)\n",
        "print(C.shape)"
      ],
      "execution_count": 30,
      "outputs": [
        {
          "output_type": "stream",
          "name": "stdout",
          "text": [
            "(3, 2)\n",
            "(3, 2)\n",
            "(2, 3)\n"
          ]
        }
      ]
    },
    {
      "cell_type": "code",
      "metadata": {
        "colab": {
          "base_uri": "https://localhost:8080/"
        },
        "id": "kYxhsu0cRYwN",
        "outputId": "e3c3c9c0-7eb5-4736-a61c-8df5344b3767"
      },
      "source": [
        "A @ C"
      ],
      "execution_count": 31,
      "outputs": [
        {
          "output_type": "execute_result",
          "data": {
            "text/plain": [
              "array([[ 4,  6, 10],\n",
              "       [-2,  3,  1],\n",
              "       [ 1,  1,  2]])"
            ]
          },
          "metadata": {},
          "execution_count": 31
        }
      ]
    },
    {
      "cell_type": "code",
      "metadata": {
        "colab": {
          "base_uri": "https://localhost:8080/"
        },
        "id": "G005FM18Rb_w",
        "outputId": "56a406a8-bcee-44aa-8b7e-a724859bb80e"
      },
      "source": [
        "B @ C"
      ],
      "execution_count": 32,
      "outputs": [
        {
          "output_type": "execute_result",
          "data": {
            "text/plain": [
              "array([[ 1,  2,  3],\n",
              "       [ 3,  6,  9],\n",
              "       [-2, -3, -5]])"
            ]
          },
          "metadata": {},
          "execution_count": 32
        }
      ]
    },
    {
      "cell_type": "markdown",
      "metadata": {
        "id": "KjrOE39XSZfs"
      },
      "source": [
        "## Shape"
      ]
    },
    {
      "cell_type": "code",
      "metadata": {
        "id": "zCjoRys_SbcJ"
      },
      "source": [
        "X = np.array([\n",
        "    [1, 2, 3, 0],\n",
        "])\n",
        "Y = np.array([\n",
        "    [1, 1],\n",
        "])\n",
        "print(X.shape)\n",
        "print(Y.shape)\n"
      ],
      "execution_count": null,
      "outputs": []
    }
  ]
}