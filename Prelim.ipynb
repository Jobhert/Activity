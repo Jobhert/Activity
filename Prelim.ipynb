{
  "nbformat": 4,
  "nbformat_minor": 0,
  "metadata": {
    "colab": {
      "name": "Prelim",
      "provenance": [],
      "authorship_tag": "ABX9TyMWwcSL1LH78ulTIgJ17AFj",
      "include_colab_link": true
    },
    "kernelspec": {
      "name": "python3",
      "display_name": "Python 3"
    },
    "language_info": {
      "name": "python"
    }
  },
  "cells": [
    {
      "cell_type": "markdown",
      "metadata": {
        "id": "view-in-github",
        "colab_type": "text"
      },
      "source": [
        "<a href=\"https://colab.research.google.com/github/Jobhert/Activity/blob/main/Prelim.ipynb\" target=\"_parent\"><img src=\"https://colab.research.google.com/assets/colab-badge.svg\" alt=\"Open In Colab\"/></a>"
      ]
    },
    {
      "cell_type": "markdown",
      "metadata": {
        "id": "gderLnzJCK-X"
      },
      "source": [
        "## Code"
      ]
    },
    {
      "cell_type": "code",
      "metadata": {
        "id": "jUaE_1gzCOxt"
      },
      "source": [
        "i = 0\n",
        "while i < 5:\n",
        "    print(i)\n",
        "    i += 1\n",
        "    if i == 3:\n",
        "      break\n",
        "else:\n",
        "  print(0)"
      ],
      "execution_count": null,
      "outputs": []
    },
    {
      "cell_type": "code",
      "metadata": {
        "id": "dW0j6MV9Cu-m"
      },
      "source": [
        "import numpy as np\n",
        "a = np.array([[1,2,3],[0,1,4]])\n",
        "print (a.shape)"
      ],
      "execution_count": null,
      "outputs": []
    },
    {
      "cell_type": "code",
      "metadata": {
        "id": "a8U3T44rDS7Y"
      },
      "source": [
        "P = np.array([\n",
        "    [5,7,2],\n",
        "    [2,3,3],\n",
        "    [4,1,0]\n",
        "])\n",
        "Q = np.array([\n",
        "    [2,2,-3],\n",
        "    [0,0,1],\n",
        "    [1,1,-3]\n",
        "])\n",
        "P + 2*Q"
      ],
      "execution_count": null,
      "outputs": []
    },
    {
      "cell_type": "code",
      "metadata": {
        "colab": {
          "base_uri": "https://localhost:8080/"
        },
        "id": "LRYlFuxAEvFG",
        "outputId": "78643c8a-73f7-4ab4-df4a-d9ea848b73d0"
      },
      "source": [
        "import numpy as np\n",
        "a = np.array([1,2,3,5,8])\n",
        "b = np.array([0,3,4,2,1])\n",
        "c = a + b\n",
        "c"
      ],
      "execution_count": 14,
      "outputs": [
        {
          "output_type": "execute_result",
          "data": {
            "text/plain": [
              "array([1, 5, 7, 7, 9])"
            ]
          },
          "metadata": {},
          "execution_count": 14
        }
      ]
    },
    {
      "cell_type": "code",
      "metadata": {
        "id": "4BuiqLMaFG37"
      },
      "source": [
        "x = 1\n",
        "while True:\n",
        "    if x % 5 == 0:\n",
        "      break\n",
        "    print (x)\n",
        "    x + = 1"
      ],
      "execution_count": null,
      "outputs": []
    },
    {
      "cell_type": "code",
      "metadata": {
        "id": "ySpalNCrGvzY"
      },
      "source": [
        "d = {0, 1, 2}\n",
        "for x in d:\n",
        "  print (x)"
      ],
      "execution_count": null,
      "outputs": []
    },
    {
      "cell_type": "code",
      "metadata": {
        "id": "OEHG4D3THitA"
      },
      "source": [
        "import numpy as np\n",
        "A = np.array ([[8,2],\n",
        "        [5,4],\n",
        "        [1,1]])\n"
      ],
      "execution_count": null,
      "outputs": []
    },
    {
      "cell_type": "code",
      "metadata": {
        "colab": {
          "base_uri": "https://localhost:8080/"
        },
        "id": "dYDb4bCwIEWf",
        "outputId": "840e70c3-48c9-4a53-9b58-461ba69120a9"
      },
      "source": [
        "int1 = 10\n",
        "int2 = 6\n",
        "if int1 != int2:\n",
        "  int2 = ++ int2\n",
        "  print(int1 - int2)"
      ],
      "execution_count": 12,
      "outputs": [
        {
          "output_type": "stream",
          "name": "stdout",
          "text": [
            "4\n"
          ]
        }
      ]
    },
    {
      "cell_type": "code",
      "metadata": {
        "id": "YAI5cssUMPUL"
      },
      "source": [
        "$$\n",
        "B=\\being{bmatrix} 1 & 1 & 1 \\\\ 3 & -2 & -1 \\\\ -1 & 4 & 2 \\emd{bmatrix}\n",
        "$$"
      ],
      "execution_count": null,
      "outputs": []
    }
  ]
}