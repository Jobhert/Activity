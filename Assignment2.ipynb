{
  "nbformat": 4,
  "nbformat_minor": 0,
  "metadata": {
    "colab": {
      "name": "Assignment2.ipynb",
      "provenance": [],
      "collapsed_sections": [
        "YdoXBPER-T2y",
        "0ThuPZmx_3v8",
        "fjOtb415B1b6",
        "vqwYmJmZLKuP",
        "bo38zsP9LVCN",
        "_vSpc2hZL8FY",
        "FEfSE1w3Nd4k",
        "3g2cvsMzNvLf",
        "lFn3qkwiOU7_"
      ],
      "authorship_tag": "ABX9TyMnRqLv3KE0Hn2gZCL1BcwY",
      "include_colab_link": true
    },
    "kernelspec": {
      "name": "python3",
      "display_name": "Python 3"
    },
    "language_info": {
      "name": "python"
    }
  },
  "cells": [
    {
      "cell_type": "markdown",
      "metadata": {
        "id": "view-in-github",
        "colab_type": "text"
      },
      "source": [
        "<a href=\"https://colab.research.google.com/github/Jobhert/Activity/blob/main/Assignment2.ipynb\" target=\"_parent\"><img src=\"https://colab.research.google.com/assets/colab-badge.svg\" alt=\"Open In Colab\"/></a>"
      ]
    },
    {
      "cell_type": "markdown",
      "metadata": {
        "id": "aqsH4Nss1kVB"
      },
      "source": [
        "# Welcome to Python Fundamentals\n",
        "\n",
        "\n",
        "\n",
        "\n",
        "\n"
      ]
    },
    {
      "cell_type": "markdown",
      "metadata": {
        "id": "hrn-fr_53f8I"
      },
      "source": [
        "In this module, we are going to establish our skills in Python programming. In this notebook we are going to cover:\n",
        "\n",
        "*   Variables and Data Types\n",
        "*   Operations\n",
        "*   Input and Output Operations\n",
        "*   Logic Control\n",
        "*   Interables\n",
        "*   Functions\n",
        "\n",
        "\n"
      ]
    },
    {
      "cell_type": "markdown",
      "metadata": {
        "id": "M5zduYdv1qnk"
      },
      "source": [
        "## Variable and Data Types"
      ]
    },
    {
      "cell_type": "code",
      "metadata": {
        "id": "5C0m1IpO3OaJ"
      },
      "source": [
        "x = 1\n",
        "a, b = 3, -2\n"
      ],
      "execution_count": null,
      "outputs": []
    },
    {
      "cell_type": "code",
      "metadata": {
        "id": "4HW_Koh_3oip"
      },
      "source": [
        "type (x)"
      ],
      "execution_count": null,
      "outputs": []
    },
    {
      "cell_type": "code",
      "metadata": {
        "id": "tzyqiS7x3_jH"
      },
      "source": [
        "y = 3.0\n",
        "type(y)"
      ],
      "execution_count": null,
      "outputs": []
    },
    {
      "cell_type": "code",
      "metadata": {
        "id": "IA7v3AHs4FRV"
      },
      "source": [
        "x = float(x)\n",
        "type(x)\n",
        "x"
      ],
      "execution_count": null,
      "outputs": []
    },
    {
      "cell_type": "code",
      "metadata": {
        "id": "_xDKKpP64QdX"
      },
      "source": [
        "s, t, u = \"1\", '3', 'three'\n",
        "type(u)"
      ],
      "execution_count": null,
      "outputs": []
    },
    {
      "cell_type": "markdown",
      "metadata": {
        "id": "s5QHUESW4vBV"
      },
      "source": [
        "# Operations"
      ]
    },
    {
      "cell_type": "markdown",
      "metadata": {
        "id": "bKhznTMP41K8"
      },
      "source": [
        "### Arithmethic"
      ]
    },
    {
      "cell_type": "code",
      "metadata": {
        "id": "8qZrc9fJ5ChO"
      },
      "source": [
        "w, x, y, z = 4.0, -3.0, 1, -32 "
      ],
      "execution_count": 18,
      "outputs": []
    },
    {
      "cell_type": "code",
      "metadata": {
        "id": "SOBxuP6F446k"
      },
      "source": [
        "### Adition \n",
        "S = w + x\n"
      ],
      "execution_count": 35,
      "outputs": []
    },
    {
      "cell_type": "code",
      "metadata": {
        "id": "sgURKE7g5jog"
      },
      "source": [
        "### Subtraction \n",
        "D = y - z"
      ],
      "execution_count": 21,
      "outputs": []
    },
    {
      "cell_type": "code",
      "metadata": {
        "id": "dtP2rp1U5wAT"
      },
      "source": [
        "### Multiplication \n",
        "p = w*z\n"
      ],
      "execution_count": 16,
      "outputs": []
    },
    {
      "cell_type": "code",
      "metadata": {
        "id": "yTZ_C4X_58mQ"
      },
      "source": [
        "### Division\n",
        "Q = y/x\n"
      ],
      "execution_count": 36,
      "outputs": []
    },
    {
      "cell_type": "code",
      "metadata": {
        "id": "SiCgF8eY6Z6m"
      },
      "source": [
        "### Floor Division\n",
        "Qf = w//z\n"
      ],
      "execution_count": 37,
      "outputs": []
    },
    {
      "cell_type": "code",
      "metadata": {
        "id": "i1E1lIf_7F74"
      },
      "source": [
        "### Exponentiation\n",
        "E = w**w\n"
      ],
      "execution_count": 38,
      "outputs": []
    },
    {
      "cell_type": "code",
      "metadata": {
        "id": "FsrJnsn47Y40"
      },
      "source": [
        "### Modulo\n",
        "mod = z%x\n"
      ],
      "execution_count": 39,
      "outputs": []
    },
    {
      "cell_type": "markdown",
      "metadata": {
        "id": "YBxAeIu37yYn"
      },
      "source": [
        "# Assignment"
      ]
    },
    {
      "cell_type": "code",
      "metadata": {
        "id": "046YpSpI72-l"
      },
      "source": [
        "A, B, C, D, E = 0, 100, 2, 1, 2"
      ],
      "execution_count": 32,
      "outputs": []
    },
    {
      "cell_type": "code",
      "metadata": {
        "id": "E72hiJIs7-X9"
      },
      "source": [
        "A += w\n"
      ],
      "execution_count": 48,
      "outputs": []
    },
    {
      "cell_type": "code",
      "metadata": {
        "id": "lEqamLbB8Vtb"
      },
      "source": [
        "B -= x\n"
      ],
      "execution_count": 49,
      "outputs": []
    },
    {
      "cell_type": "code",
      "metadata": {
        "id": "lAnDYrCv9GCs"
      },
      "source": [
        "C *= w\n"
      ],
      "execution_count": 54,
      "outputs": []
    },
    {
      "cell_type": "code",
      "metadata": {
        "id": "BL1PelML9TBf"
      },
      "source": [
        "D /= x\n"
      ],
      "execution_count": 58,
      "outputs": []
    },
    {
      "cell_type": "code",
      "metadata": {
        "id": "rjx24E5L9eck"
      },
      "source": [
        "E **= y\n"
      ],
      "execution_count": 65,
      "outputs": []
    },
    {
      "cell_type": "markdown",
      "metadata": {
        "id": "YdoXBPER-T2y"
      },
      "source": [
        "### Comparators"
      ]
    },
    {
      "cell_type": "code",
      "metadata": {
        "id": "NgXnCCQ1-YEG"
      },
      "source": [
        "size_1, size_2, size_3 = 1, 2.0, \"1\"\n",
        "true_size = 1.0"
      ],
      "execution_count": 67,
      "outputs": []
    },
    {
      "cell_type": "code",
      "metadata": {
        "id": "qJ3AOshI-i_K"
      },
      "source": [
        "## Equality\n",
        "size_1 == true_size"
      ],
      "execution_count": null,
      "outputs": []
    },
    {
      "cell_type": "code",
      "metadata": {
        "id": "DNpKtvtY-4R-"
      },
      "source": [
        "## Non-Equality\n",
        "size_2 != true_size"
      ],
      "execution_count": null,
      "outputs": []
    },
    {
      "cell_type": "code",
      "metadata": {
        "id": "1JycsNFp_AAk"
      },
      "source": [
        "## Inequality \n",
        "s1 = size_1 > size_2\n",
        "s2 = size_1 < size_2/2\n",
        "s3 = true_size >= size_1\n",
        "s4 = size_2 <= true_size\n"
      ],
      "execution_count": 79,
      "outputs": []
    },
    {
      "cell_type": "markdown",
      "metadata": {
        "id": "0ThuPZmx_3v8"
      },
      "source": [
        "### Logical "
      ]
    },
    {
      "cell_type": "code",
      "metadata": {
        "id": "JfAgp17w_576"
      },
      "source": [
        "size_1 == true_size"
      ],
      "execution_count": null,
      "outputs": []
    },
    {
      "cell_type": "code",
      "metadata": {
        "id": "xuLXnLOOAFb-"
      },
      "source": [
        "size_1 is true_size"
      ],
      "execution_count": null,
      "outputs": []
    },
    {
      "cell_type": "code",
      "metadata": {
        "id": "SWsTXLKYAcb4"
      },
      "source": [
        "size_1 is not true_size"
      ],
      "execution_count": null,
      "outputs": []
    },
    {
      "cell_type": "code",
      "metadata": {
        "id": "gUYNFCNxAm5B"
      },
      "source": [
        "P, Q = True, False\n",
        "conj = P and Q\n"
      ],
      "execution_count": 86,
      "outputs": []
    },
    {
      "cell_type": "code",
      "metadata": {
        "id": "I0iSlpi0A8yN"
      },
      "source": [
        "disj = P or Q"
      ],
      "execution_count": 88,
      "outputs": []
    },
    {
      "cell_type": "code",
      "metadata": {
        "id": "PqSN0wT1BIlk"
      },
      "source": [
        "nand = not(P and Q)\n"
      ],
      "execution_count": 90,
      "outputs": []
    },
    {
      "cell_type": "code",
      "metadata": {
        "id": "Rpj2jYQIBY2D"
      },
      "source": [
        "xor = (not P and Q) or (P and not Q)\n"
      ],
      "execution_count": 92,
      "outputs": []
    },
    {
      "cell_type": "markdown",
      "metadata": {
        "id": "fjOtb415B1b6"
      },
      "source": [
        "## Input and Output"
      ]
    },
    {
      "cell_type": "code",
      "metadata": {
        "id": "A_pQk4dhCJy8"
      },
      "source": [
        "print (\"Hello World!\")"
      ],
      "execution_count": null,
      "outputs": []
    },
    {
      "cell_type": "code",
      "metadata": {
        "id": "2osLF66KCGTr"
      },
      "source": [
        "cnt = 14000"
      ],
      "execution_count": 96,
      "outputs": []
    },
    {
      "cell_type": "code",
      "metadata": {
        "id": "rqUM6jwjCTMz"
      },
      "source": [
        "string = \"Hello World!\"\n",
        "print(string, \", Current COVID count is:\", cnt)\n",
        "cnt += 10000"
      ],
      "execution_count": null,
      "outputs": []
    },
    {
      "cell_type": "code",
      "metadata": {
        "id": "gLjxwi1wC7AY"
      },
      "source": [
        "print(f\"{string}, current count is: {cnt}\")"
      ],
      "execution_count": null,
      "outputs": []
    },
    {
      "cell_type": "code",
      "metadata": {
        "id": "ANAmY-vVD0hw"
      },
      "source": [
        "sem_grade = 86.25 \n",
        "name = \"Jobhert\"\n",
        "print(\"Hello {}, your semestral grade is: {}\".format(name, sem_grade))"
      ],
      "execution_count": null,
      "outputs": []
    },
    {
      "cell_type": "code",
      "metadata": {
        "id": "ac0oSJUbDR02"
      },
      "source": [
        "pg, mg, fg = 0.3, 0.3, 0.4\n",
        "print(\"The weights of your semestral grades are:\\\n",
        "\\n\\t {:.2%} for Prelims\\\n",
        "\\n\\t {:.2%} for Midterms, and\\\n",
        "\\n\\t {:.2%} for Finals.\".format(pg, mg, fg))\n",
        "\n"
      ],
      "execution_count": null,
      "outputs": []
    },
    {
      "cell_type": "code",
      "metadata": {
        "id": "gUU88K7HFgEk"
      },
      "source": [
        "e = input(\"Enter a number: \")\n",
        "\n"
      ],
      "execution_count": null,
      "outputs": []
    },
    {
      "cell_type": "code",
      "metadata": {
        "id": "XXJPBGh-F7Fj"
      },
      "source": [
        "name = input(\"Enter your name: \")\n",
        "pg = input(\"Enter prelim grade: \")\n",
        "mg = input(\"Enter midterm grade: \")\n",
        "fg = input(\"Enter final grade: \")\n",
        "sem_grade = None\n",
        "print(\"Hello {}, your semestral grade is: {}\".format(name, semgrade))"
      ],
      "execution_count": null,
      "outputs": []
    },
    {
      "cell_type": "markdown",
      "metadata": {
        "id": "vqwYmJmZLKuP"
      },
      "source": [
        "## Looping Statements"
      ]
    },
    {
      "cell_type": "markdown",
      "metadata": {
        "id": "bo38zsP9LVCN"
      },
      "source": [
        "## While"
      ]
    },
    {
      "cell_type": "code",
      "metadata": {
        "id": "-J9836OoLRBP"
      },
      "source": [
        "## While Loops\n",
        "i, j = 0, 10\n",
        "while(i<=j):\n",
        "  print(f\"{i}\\t|\\t{j}\")\n",
        "  i += 1"
      ],
      "execution_count": null,
      "outputs": []
    },
    {
      "cell_type": "markdown",
      "metadata": {
        "id": "_vSpc2hZL8FY"
      },
      "source": [
        "## For"
      ]
    },
    {
      "cell_type": "code",
      "metadata": {
        "id": "NuUS2rQoL9_e"
      },
      "source": [
        "# for (int = 0; i<10; i++){\n",
        "# printf(i)\n",
        "# }\n",
        "\n",
        "i = 0\n",
        "for i in range(11):\n",
        "  print(i)"
      ],
      "execution_count": null,
      "outputs": []
    },
    {
      "cell_type": "code",
      "metadata": {
        "id": "fVPADn_BMtdE"
      },
      "source": [
        "playlist = [\"Bahay Kubo\", \"Magandang Kanta\", \"Buko\"]\n",
        "print('Now Playing:\\n')\n",
        "for song in playlist:\n",
        "  print(song)"
      ],
      "execution_count": null,
      "outputs": []
    },
    {
      "cell_type": "markdown",
      "metadata": {
        "id": "FEfSE1w3Nd4k"
      },
      "source": [
        "### Flow Control\n"
      ]
    },
    {
      "cell_type": "markdown",
      "metadata": {
        "id": "3g2cvsMzNvLf"
      },
      "source": [
        "## Conditional Statement "
      ]
    },
    {
      "cell_type": "code",
      "metadata": {
        "id": "2m5Ws__bNyNh"
      },
      "source": [
        "num_1, num_2 = 14, 12\n",
        "if (num_1 == num_2):\n",
        "    print(\"HAHA\")\n",
        "elif(num_1>num_2):\n",
        "    print(\"HOHO\")\n",
        "else:\n",
        "    print(\"HUHU\")\n"
      ],
      "execution_count": null,
      "outputs": []
    },
    {
      "cell_type": "markdown",
      "metadata": {
        "id": "lFn3qkwiOU7_"
      },
      "source": [
        "## Functions"
      ]
    },
    {
      "cell_type": "code",
      "metadata": {
        "id": "up6hjacyOXws"
      },
      "source": [
        "# void DeleteUser (int userid){\n",
        "# delete(userid);\n",
        "#}\n",
        "\n",
        "def delete_user (userid):\n",
        "    print(\"Successfully deleted user: {}\".format(userid))"
      ],
      "execution_count": 127,
      "outputs": []
    },
    {
      "cell_type": "code",
      "metadata": {
        "id": "1Hh2rQPKO03M"
      },
      "source": [
        "userid = 2020_100100\n",
        "delete_user = (2020_100100)"
      ],
      "execution_count": 128,
      "outputs": []
    },
    {
      "cell_type": "code",
      "metadata": {
        "id": "IKCVsL8cO-zH"
      },
      "source": [
        "addend1, addend2, = 5, 6"
      ],
      "execution_count": 129,
      "outputs": []
    },
    {
      "cell_type": "code",
      "metadata": {
        "id": "jLdQHGvqPE5i"
      },
      "source": [
        "def add(addend1, addend2):\n",
        "    sum = addend1 + addend2\n",
        "    return sum"
      ],
      "execution_count": 130,
      "outputs": []
    },
    {
      "cell_type": "code",
      "metadata": {
        "colab": {
          "base_uri": "https://localhost:8080/"
        },
        "id": "AkE_eVmCPvdf",
        "outputId": "6f115470-9c22-4ac7-b97a-f5417a22c9f0"
      },
      "source": [
        "add(5, 4)"
      ],
      "execution_count": 131,
      "outputs": [
        {
          "output_type": "execute_result",
          "data": {
            "text/plain": [
              "9"
            ]
          },
          "metadata": {},
          "execution_count": 131
        }
      ]
    },
    {
      "cell_type": "markdown",
      "metadata": {
        "id": "J8vk-Xk3Sl9o"
      },
      "source": [
        "References:\n",
        "[1] Python Fundamentals\n"
      ]
    },
    {
      "cell_type": "code",
      "metadata": {
        "id": "1f4qJKYxVzTX"
      },
      "source": [
        ""
      ],
      "execution_count": null,
      "outputs": []
    }
  ]
}