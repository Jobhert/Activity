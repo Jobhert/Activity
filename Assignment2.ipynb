{
  "nbformat": 4,
  "nbformat_minor": 0,
  "metadata": {
    "colab": {
      "name": "Assignment2.ipynb",
      "provenance": [],
      "collapsed_sections": [
        "YdoXBPER-T2y",
        "0ThuPZmx_3v8",
        "fjOtb415B1b6",
        "vqwYmJmZLKuP",
        "bo38zsP9LVCN",
        "_vSpc2hZL8FY",
        "FEfSE1w3Nd4k",
        "3g2cvsMzNvLf",
        "lFn3qkwiOU7_"
      ],
      "include_colab_link": true
    },
    "kernelspec": {
      "name": "python3",
      "display_name": "Python 3"
    },
    "language_info": {
      "name": "python"
    }
  },
  "cells": [
    {
      "cell_type": "markdown",
      "metadata": {
        "id": "view-in-github",
        "colab_type": "text"
      },
      "source": [
        "<a href=\"https://colab.research.google.com/github/Jobhert/Activity/blob/main/Assignment2.ipynb\" target=\"_parent\"><img src=\"https://colab.research.google.com/assets/colab-badge.svg\" alt=\"Open In Colab\"/></a>"
      ]
    },
    {
      "cell_type": "markdown",
      "metadata": {
        "id": "aqsH4Nss1kVB"
      },
      "source": [
        "# Welcome to Python Fundamentals\n",
        "\n",
        "\n",
        "\n",
        "\n",
        "\n"
      ]
    },
    {
      "cell_type": "markdown",
      "metadata": {
        "id": "hrn-fr_53f8I"
      },
      "source": [
        "In this module, we are going to establish our skills in Python programming. In this notebook we are going to cover:\n",
        "\n",
        "*   Variables and Data Types\n",
        "*   Operations\n",
        "*   Input and Output Operations\n",
        "*   Logic Control\n",
        "*   Interables\n",
        "*   Functions\n",
        "\n",
        "\n"
      ]
    },
    {
      "cell_type": "markdown",
      "metadata": {
        "id": "M5zduYdv1qnk"
      },
      "source": [
        "## Variable and Data Types\n",
        "The value specifies which operations can be performed on a given set of data. Because everything in Python programming is an object, data types are essentially classes, and variables are instances of these classes."
      ]
    },
    {
      "cell_type": "code",
      "metadata": {
        "id": "5C0m1IpO3OaJ"
      },
      "source": [
        "x = 1\n",
        "a, b = 3, -2\n"
      ],
      "execution_count": 1,
      "outputs": []
    },
    {
      "cell_type": "code",
      "metadata": {
        "id": "4HW_Koh_3oip",
        "colab": {
          "base_uri": "https://localhost:8080/"
        },
        "outputId": "517b3203-fa43-43b1-bfa9-91a43d0e22c2"
      },
      "source": [
        "type (x)"
      ],
      "execution_count": 2,
      "outputs": [
        {
          "output_type": "execute_result",
          "data": {
            "text/plain": [
              "int"
            ]
          },
          "metadata": {},
          "execution_count": 2
        }
      ]
    },
    {
      "cell_type": "code",
      "metadata": {
        "id": "tzyqiS7x3_jH",
        "colab": {
          "base_uri": "https://localhost:8080/"
        },
        "outputId": "617095f9-e9f5-4767-ee0c-6b8d682c62c3"
      },
      "source": [
        "y = 3.0\n",
        "type(y)"
      ],
      "execution_count": 3,
      "outputs": [
        {
          "output_type": "execute_result",
          "data": {
            "text/plain": [
              "float"
            ]
          },
          "metadata": {},
          "execution_count": 3
        }
      ]
    },
    {
      "cell_type": "code",
      "metadata": {
        "id": "IA7v3AHs4FRV",
        "colab": {
          "base_uri": "https://localhost:8080/"
        },
        "outputId": "147ce16d-4c4c-4ab6-c0e9-644ebe31e424"
      },
      "source": [
        "x = float(x)\n",
        "type(x)\n",
        "x"
      ],
      "execution_count": 4,
      "outputs": [
        {
          "output_type": "execute_result",
          "data": {
            "text/plain": [
              "1.0"
            ]
          },
          "metadata": {},
          "execution_count": 4
        }
      ]
    },
    {
      "cell_type": "code",
      "metadata": {
        "id": "_xDKKpP64QdX",
        "colab": {
          "base_uri": "https://localhost:8080/"
        },
        "outputId": "bbdcbc97-91fd-4aff-e170-b0c59adc0f07"
      },
      "source": [
        "s, t, u = \"1\", '3', 'three'\n",
        "type(u)"
      ],
      "execution_count": 5,
      "outputs": [
        {
          "output_type": "execute_result",
          "data": {
            "text/plain": [
              "str"
            ]
          },
          "metadata": {},
          "execution_count": 5
        }
      ]
    },
    {
      "cell_type": "markdown",
      "metadata": {
        "id": "s5QHUESW4vBV"
      },
      "source": [
        "# Operations\n",
        "\n"
      ]
    },
    {
      "cell_type": "markdown",
      "metadata": {
        "id": "bKhznTMP41K8"
      },
      "source": [
        "## Arithmethic\n",
        "Is used to perform mathematical operations. Seven arithmetic operators for different mathematical operations.\n",
        "\n",
        "*   Addition (+)\n",
        "*   Subtraction (-)\n",
        "*   Multiplication (*)\n",
        "*   Division (/)\n",
        "*   Exponentiation (**)\n",
        "*   Floor division (//)\n",
        "*   Modulus (%)\n"
      ]
    },
    {
      "cell_type": "code",
      "metadata": {
        "id": "8qZrc9fJ5ChO"
      },
      "source": [
        "w, x, y, z = 4.0, -3.0, 1, -32 "
      ],
      "execution_count": 6,
      "outputs": []
    },
    {
      "cell_type": "code",
      "metadata": {
        "id": "SOBxuP6F446k"
      },
      "source": [
        "### Adition \n",
        "S = w + x\n"
      ],
      "execution_count": 7,
      "outputs": []
    },
    {
      "cell_type": "code",
      "metadata": {
        "id": "sgURKE7g5jog"
      },
      "source": [
        "### Subtraction \n",
        "D = y - z"
      ],
      "execution_count": 8,
      "outputs": []
    },
    {
      "cell_type": "code",
      "metadata": {
        "id": "dtP2rp1U5wAT"
      },
      "source": [
        "### Multiplication \n",
        "p = w*z\n"
      ],
      "execution_count": 9,
      "outputs": []
    },
    {
      "cell_type": "code",
      "metadata": {
        "id": "yTZ_C4X_58mQ"
      },
      "source": [
        "### Division\n",
        "Q = y/x\n"
      ],
      "execution_count": 10,
      "outputs": []
    },
    {
      "cell_type": "code",
      "metadata": {
        "id": "SiCgF8eY6Z6m"
      },
      "source": [
        "### Floor Division\n",
        "Qf = w//z\n"
      ],
      "execution_count": 11,
      "outputs": []
    },
    {
      "cell_type": "code",
      "metadata": {
        "id": "i1E1lIf_7F74"
      },
      "source": [
        "### Exponentiation\n",
        "E = w**w\n"
      ],
      "execution_count": 12,
      "outputs": []
    },
    {
      "cell_type": "code",
      "metadata": {
        "id": "FsrJnsn47Y40"
      },
      "source": [
        "### Modulo\n",
        "mod = z%x\n"
      ],
      "execution_count": 13,
      "outputs": []
    },
    {
      "cell_type": "markdown",
      "metadata": {
        "id": "YBxAeIu37yYn"
      },
      "source": [
        "## Assignment Operations\n",
        "Are used to assign values to variables in Python. The assignment operator a = 5 assigns the value 5 on the right to the left-hand variable.\n",
        "\n",
        "*   *=\n",
        "*   /=\n",
        "*   **=\n",
        "*   //=\n",
        "*   %="
      ]
    },
    {
      "cell_type": "code",
      "metadata": {
        "id": "046YpSpI72-l"
      },
      "source": [
        "A, B, C, D, E = 0, 100, 2, 1, 2"
      ],
      "execution_count": 14,
      "outputs": []
    },
    {
      "cell_type": "code",
      "metadata": {
        "id": "E72hiJIs7-X9"
      },
      "source": [
        "A += w\n"
      ],
      "execution_count": 15,
      "outputs": []
    },
    {
      "cell_type": "code",
      "metadata": {
        "id": "lEqamLbB8Vtb"
      },
      "source": [
        "B -= x\n"
      ],
      "execution_count": 16,
      "outputs": []
    },
    {
      "cell_type": "code",
      "metadata": {
        "id": "lAnDYrCv9GCs"
      },
      "source": [
        "C *= w\n"
      ],
      "execution_count": 17,
      "outputs": []
    },
    {
      "cell_type": "code",
      "metadata": {
        "id": "BL1PelML9TBf"
      },
      "source": [
        "D /= x\n"
      ],
      "execution_count": 18,
      "outputs": []
    },
    {
      "cell_type": "code",
      "metadata": {
        "id": "rjx24E5L9eck"
      },
      "source": [
        "E **= y\n"
      ],
      "execution_count": 19,
      "outputs": []
    },
    {
      "cell_type": "markdown",
      "metadata": {
        "id": "YdoXBPER-T2y"
      },
      "source": [
        "## Comparators\n",
        "Comparators are tools that allow two items to be compared. You'll make a comparator and use it to sort an array in this task.\n",
        "\n",
        "*   Equal: ==\n",
        "*   Not equal: !=\n",
        "*   Greater than: >\n",
        "*  Less than: <\n",
        "*   Greater than or equal: >=\n",
        "*   Less than or equal: <=\n",
        " "
      ]
    },
    {
      "cell_type": "code",
      "metadata": {
        "id": "NgXnCCQ1-YEG"
      },
      "source": [
        "size_1, size_2, size_3 = 1, 2.0, \"1\"\n",
        "true_size = 1.0"
      ],
      "execution_count": 20,
      "outputs": []
    },
    {
      "cell_type": "code",
      "metadata": {
        "id": "qJ3AOshI-i_K",
        "colab": {
          "base_uri": "https://localhost:8080/"
        },
        "outputId": "3ddc3ec4-04be-4ace-8c12-7cb03d3441ca"
      },
      "source": [
        "## Equality\n",
        "size_1 == true_size"
      ],
      "execution_count": 21,
      "outputs": [
        {
          "output_type": "execute_result",
          "data": {
            "text/plain": [
              "True"
            ]
          },
          "metadata": {},
          "execution_count": 21
        }
      ]
    },
    {
      "cell_type": "code",
      "metadata": {
        "id": "DNpKtvtY-4R-",
        "colab": {
          "base_uri": "https://localhost:8080/"
        },
        "outputId": "f107bdf6-d60f-4339-df6f-faccc4709a84"
      },
      "source": [
        "## Non-Equality\n",
        "size_2 != true_size"
      ],
      "execution_count": 22,
      "outputs": [
        {
          "output_type": "execute_result",
          "data": {
            "text/plain": [
              "True"
            ]
          },
          "metadata": {},
          "execution_count": 22
        }
      ]
    },
    {
      "cell_type": "code",
      "metadata": {
        "id": "1JycsNFp_AAk"
      },
      "source": [
        "## Inequality \n",
        "s1 = size_1 > size_2\n",
        "s2 = size_1 < size_2/2\n",
        "s3 = true_size >= size_1\n",
        "s4 = size_2 <= true_size\n"
      ],
      "execution_count": 23,
      "outputs": []
    },
    {
      "cell_type": "markdown",
      "metadata": {
        "id": "0ThuPZmx_3v8"
      },
      "source": [
        "## Logical \n",
        "Allows you to determine whether two expressions are True, the or logical operator determines whether one of many expressions is True, and the not operator determines whether an expression is False."
      ]
    },
    {
      "cell_type": "code",
      "metadata": {
        "id": "JfAgp17w_576",
        "colab": {
          "base_uri": "https://localhost:8080/"
        },
        "outputId": "f3b83c1b-c34e-433a-8838-bbac0c1283ea"
      },
      "source": [
        "size_1 == true_size"
      ],
      "execution_count": 24,
      "outputs": [
        {
          "output_type": "execute_result",
          "data": {
            "text/plain": [
              "True"
            ]
          },
          "metadata": {},
          "execution_count": 24
        }
      ]
    },
    {
      "cell_type": "code",
      "metadata": {
        "id": "xuLXnLOOAFb-",
        "colab": {
          "base_uri": "https://localhost:8080/"
        },
        "outputId": "ca5f1c1d-0164-4e56-b6a2-29a02e6558ad"
      },
      "source": [
        "size_1 is true_size"
      ],
      "execution_count": 25,
      "outputs": [
        {
          "output_type": "execute_result",
          "data": {
            "text/plain": [
              "False"
            ]
          },
          "metadata": {},
          "execution_count": 25
        }
      ]
    },
    {
      "cell_type": "code",
      "metadata": {
        "id": "SWsTXLKYAcb4",
        "colab": {
          "base_uri": "https://localhost:8080/"
        },
        "outputId": "e35cf896-1adb-4b0d-ebdd-f4ea7bb530c5"
      },
      "source": [
        "size_1 is not true_size"
      ],
      "execution_count": 26,
      "outputs": [
        {
          "output_type": "execute_result",
          "data": {
            "text/plain": [
              "True"
            ]
          },
          "metadata": {},
          "execution_count": 26
        }
      ]
    },
    {
      "cell_type": "code",
      "metadata": {
        "id": "gUYNFCNxAm5B"
      },
      "source": [
        "P, Q = True, False\n",
        "conj = P and Q\n"
      ],
      "execution_count": 27,
      "outputs": []
    },
    {
      "cell_type": "code",
      "metadata": {
        "id": "I0iSlpi0A8yN"
      },
      "source": [
        "disj = P or Q"
      ],
      "execution_count": 28,
      "outputs": []
    },
    {
      "cell_type": "code",
      "metadata": {
        "id": "PqSN0wT1BIlk"
      },
      "source": [
        "nand = not(P and Q)\n"
      ],
      "execution_count": 29,
      "outputs": []
    },
    {
      "cell_type": "code",
      "metadata": {
        "id": "Rpj2jYQIBY2D"
      },
      "source": [
        "xor = (not P and Q) or (P and not Q)\n"
      ],
      "execution_count": 30,
      "outputs": []
    },
    {
      "cell_type": "markdown",
      "metadata": {
        "id": "fjOtb415B1b6"
      },
      "source": [
        "## Input and Output"
      ]
    },
    {
      "cell_type": "code",
      "metadata": {
        "id": "A_pQk4dhCJy8"
      },
      "source": [
        "print (\"Hello World!\")"
      ],
      "execution_count": null,
      "outputs": []
    },
    {
      "cell_type": "code",
      "metadata": {
        "id": "2osLF66KCGTr"
      },
      "source": [
        "cnt = 14000"
      ],
      "execution_count": 32,
      "outputs": []
    },
    {
      "cell_type": "code",
      "metadata": {
        "id": "rqUM6jwjCTMz"
      },
      "source": [
        "string = \"Hello World!\"\n",
        "print(string, \", Current COVID count is:\", cnt)\n",
        "cnt += 10000"
      ],
      "execution_count": null,
      "outputs": []
    },
    {
      "cell_type": "code",
      "metadata": {
        "id": "gLjxwi1wC7AY",
        "colab": {
          "base_uri": "https://localhost:8080/"
        },
        "outputId": "4c9cd504-cdd7-4c45-d13c-66abe393dd66"
      },
      "source": [
        "print(f\"{string}, current count is: {cnt}\")"
      ],
      "execution_count": 34,
      "outputs": [
        {
          "output_type": "stream",
          "name": "stdout",
          "text": [
            "Hello World!, current count is: 24000\n"
          ]
        }
      ]
    },
    {
      "cell_type": "code",
      "metadata": {
        "id": "ANAmY-vVD0hw",
        "colab": {
          "base_uri": "https://localhost:8080/"
        },
        "outputId": "94c64235-1804-4e9a-ea85-b261f2685055"
      },
      "source": [
        "sem_grade = 86.25 \n",
        "name = \"Jobhert\"\n",
        "print(\"Hello {}, your semestral grade is: {}\".format(name, sem_grade))"
      ],
      "execution_count": 35,
      "outputs": [
        {
          "output_type": "stream",
          "name": "stdout",
          "text": [
            "Hello Jobhert, your semestral grade is: 86.25\n"
          ]
        }
      ]
    },
    {
      "cell_type": "code",
      "metadata": {
        "id": "ac0oSJUbDR02",
        "colab": {
          "base_uri": "https://localhost:8080/"
        },
        "outputId": "8012b36f-9d4c-4120-f082-cc34e3cedb86"
      },
      "source": [
        "pg, mg, fg = 0.3, 0.3, 0.4\n",
        "print(\"The weights of your semestral grades are:\\\n",
        "\\n\\t {:.2%} for Prelims\\\n",
        "\\n\\t {:.2%} for Midterms, and\\\n",
        "\\n\\t {:.2%} for Finals.\".format(pg, mg, fg))\n",
        "\n"
      ],
      "execution_count": 36,
      "outputs": [
        {
          "output_type": "stream",
          "name": "stdout",
          "text": [
            "The weights of your semestral grades are:\n",
            "\t 30.00% for Prelims\n",
            "\t 30.00% for Midterms, and\n",
            "\t 40.00% for Finals.\n"
          ]
        }
      ]
    },
    {
      "cell_type": "code",
      "metadata": {
        "id": "gUU88K7HFgEk",
        "colab": {
          "base_uri": "https://localhost:8080/"
        },
        "outputId": "97b0dd84-8047-454a-b05a-176fab638dc0"
      },
      "source": [
        "e = input(\"Enter a number:1\")\n"
      ],
      "execution_count": 46,
      "outputs": [
        {
          "name": "stdout",
          "output_type": "stream",
          "text": [
            "Enter a number:11\n"
          ]
        }
      ]
    },
    {
      "cell_type": "code",
      "metadata": {
        "id": "XXJPBGh-F7Fj",
        "colab": {
          "base_uri": "https://localhost:8080/"
        },
        "outputId": "1a9c8007-255a-4190-f13a-8bf7eb0882e9"
      },
      "source": [
        "name = input(\"Enter your name: \")\n",
        "pg = input(\"Enter prelim grade: \")\n",
        "mg = input(\"Enter midterm grade: \")\n",
        "fg = input(\"Enter final grade: \")\n",
        "sem_grade = None\n",
        "print(\"Hello{}, your semestral grade is: {}\".format(name, sem_grade))"
      ],
      "execution_count": 47,
      "outputs": [
        {
          "output_type": "stream",
          "name": "stdout",
          "text": [
            "Enter your name: Jobhert\n",
            "Enter prelim grade: 85\n",
            "Enter midterm grade: 85\n",
            "Enter final grade: 85\n",
            "HelloJobhert, your semestral grade is: None\n"
          ]
        }
      ]
    },
    {
      "cell_type": "markdown",
      "metadata": {
        "id": "vqwYmJmZLKuP"
      },
      "source": [
        "## Looping Statements"
      ]
    },
    {
      "cell_type": "markdown",
      "metadata": {
        "id": "bo38zsP9LVCN"
      },
      "source": [
        "## While"
      ]
    },
    {
      "cell_type": "code",
      "metadata": {
        "id": "-J9836OoLRBP",
        "colab": {
          "base_uri": "https://localhost:8080/"
        },
        "outputId": "477a0c97-68b9-4be0-c49d-3852289a32da"
      },
      "source": [
        "## While Loops\n",
        "i, j = 0, 10\n",
        "while(i<=j):\n",
        "  print(f\"{i}\\t|\\t{j}\")\n",
        "  i += 1"
      ],
      "execution_count": 48,
      "outputs": [
        {
          "output_type": "stream",
          "name": "stdout",
          "text": [
            "0\t|\t10\n",
            "1\t|\t10\n",
            "2\t|\t10\n",
            "3\t|\t10\n",
            "4\t|\t10\n",
            "5\t|\t10\n",
            "6\t|\t10\n",
            "7\t|\t10\n",
            "8\t|\t10\n",
            "9\t|\t10\n",
            "10\t|\t10\n"
          ]
        }
      ]
    },
    {
      "cell_type": "markdown",
      "metadata": {
        "id": "_vSpc2hZL8FY"
      },
      "source": [
        "## For"
      ]
    },
    {
      "cell_type": "code",
      "metadata": {
        "id": "NuUS2rQoL9_e",
        "colab": {
          "base_uri": "https://localhost:8080/"
        },
        "outputId": "26d8517f-bed1-469a-ebf9-8afdffa26986"
      },
      "source": [
        "# for (int = 0; i<10; i++){\n",
        "# printf(i)\n",
        "# }\n",
        "\n",
        "i = 0\n",
        "for i in range(11):\n",
        "  print(i)"
      ],
      "execution_count": 49,
      "outputs": [
        {
          "output_type": "stream",
          "name": "stdout",
          "text": [
            "0\n",
            "1\n",
            "2\n",
            "3\n",
            "4\n",
            "5\n",
            "6\n",
            "7\n",
            "8\n",
            "9\n",
            "10\n"
          ]
        }
      ]
    },
    {
      "cell_type": "code",
      "metadata": {
        "id": "fVPADn_BMtdE",
        "colab": {
          "base_uri": "https://localhost:8080/"
        },
        "outputId": "b6bccba9-dd76-45ac-e238-1be67f54ba63"
      },
      "source": [
        "playlist = [\"Bahay Kubo\", \"Magandang Kanta\", \"Buko\"]\n",
        "print('Now Playing:\\n')\n",
        "for song in playlist:\n",
        "  print(song)"
      ],
      "execution_count": 50,
      "outputs": [
        {
          "output_type": "stream",
          "name": "stdout",
          "text": [
            "Now Playing:\n",
            "\n",
            "Bahay Kubo\n",
            "Magandang Kanta\n",
            "Buko\n"
          ]
        }
      ]
    },
    {
      "cell_type": "markdown",
      "metadata": {
        "id": "FEfSE1w3Nd4k"
      },
      "source": [
        "# Flow Control\n"
      ]
    },
    {
      "cell_type": "markdown",
      "metadata": {
        "id": "3g2cvsMzNvLf"
      },
      "source": [
        "## Conditional Statement "
      ]
    },
    {
      "cell_type": "code",
      "metadata": {
        "id": "2m5Ws__bNyNh",
        "colab": {
          "base_uri": "https://localhost:8080/"
        },
        "outputId": "8e811813-c1c3-4d89-c99a-e66344b0a838"
      },
      "source": [
        "num_1, num_2 = 14, 12\n",
        "if (num_1 == num_2):\n",
        "    print(\"HAHA\")\n",
        "elif(num_1>num_2):\n",
        "    print(\"HOHO\")\n",
        "else:\n",
        "    print(\"HUHU\")\n"
      ],
      "execution_count": 45,
      "outputs": [
        {
          "output_type": "stream",
          "name": "stdout",
          "text": [
            "HOHO\n"
          ]
        }
      ]
    },
    {
      "cell_type": "markdown",
      "metadata": {
        "id": "lFn3qkwiOU7_"
      },
      "source": [
        "## Functions"
      ]
    },
    {
      "cell_type": "code",
      "metadata": {
        "id": "up6hjacyOXws"
      },
      "source": [
        "# void DeleteUser (int userid){\n",
        "# delete(userid);\n",
        "#}\n",
        "\n",
        "def delete_user (userid):\n",
        "    print(\"Successfully deleted user: {}\".format(userid))"
      ],
      "execution_count": 40,
      "outputs": []
    },
    {
      "cell_type": "code",
      "metadata": {
        "id": "1Hh2rQPKO03M"
      },
      "source": [
        "userid = 2020_100100\n",
        "delete_user = (2020_100100)"
      ],
      "execution_count": 41,
      "outputs": []
    },
    {
      "cell_type": "code",
      "metadata": {
        "id": "IKCVsL8cO-zH"
      },
      "source": [
        "addend1, addend2, = 5, 6"
      ],
      "execution_count": 42,
      "outputs": []
    },
    {
      "cell_type": "code",
      "metadata": {
        "id": "jLdQHGvqPE5i"
      },
      "source": [
        "def add(addend1, addend2):\n",
        "    sum = addend1 + addend2\n",
        "    return sum"
      ],
      "execution_count": 43,
      "outputs": []
    },
    {
      "cell_type": "code",
      "metadata": {
        "colab": {
          "base_uri": "https://localhost:8080/"
        },
        "id": "AkE_eVmCPvdf",
        "outputId": "3820e1cb-12c6-4077-ae14-00f2ac538cf7"
      },
      "source": [
        "add(5, 4)"
      ],
      "execution_count": 44,
      "outputs": [
        {
          "output_type": "execute_result",
          "data": {
            "text/plain": [
              "9"
            ]
          },
          "metadata": {},
          "execution_count": 44
        }
      ]
    },
    {
      "cell_type": "markdown",
      "metadata": {
        "id": "quyetDyp9CVL"
      },
      "source": [
        "##Conclusion"
      ]
    },
    {
      "cell_type": "markdown",
      "metadata": {
        "id": "um05lAhV9RoH"
      },
      "source": [
        "##Reference:"
      ]
    }
  ]
}