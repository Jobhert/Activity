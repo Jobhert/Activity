{
  "nbformat": 4,
  "nbformat_minor": 0,
  "metadata": {
    "colab": {
      "name": "Assignment2.ipynb",
      "provenance": [],
      "collapsed_sections": [
        "YdoXBPER-T2y",
        "0ThuPZmx_3v8",
        "fjOtb415B1b6",
        "vqwYmJmZLKuP",
        "bo38zsP9LVCN",
        "_vSpc2hZL8FY",
        "FEfSE1w3Nd4k",
        "3g2cvsMzNvLf",
        "lFn3qkwiOU7_"
      ],
      "include_colab_link": true
    },
    "kernelspec": {
      "name": "python3",
      "display_name": "Python 3"
    },
    "language_info": {
      "name": "python"
    }
  },
  "cells": [
    {
      "cell_type": "markdown",
      "metadata": {
        "id": "view-in-github",
        "colab_type": "text"
      },
      "source": [
        "<a href=\"https://colab.research.google.com/github/Jobhert/Activity/blob/main/Assignment2.ipynb\" target=\"_parent\"><img src=\"https://colab.research.google.com/assets/colab-badge.svg\" alt=\"Open In Colab\"/></a>"
      ]
    },
    {
      "cell_type": "markdown",
      "metadata": {
        "id": "aqsH4Nss1kVB"
      },
      "source": [
        "# Welcome to Python Fundamentals\n",
        "\n",
        "\n",
        "\n",
        "\n",
        "\n"
      ]
    },
    {
      "cell_type": "markdown",
      "metadata": {
        "id": "hrn-fr_53f8I"
      },
      "source": [
        "In this module, we are going to establish our skills in Python programming. In this notebook we are going to cover:\n",
        "\n",
        "*   Variables and Data Types\n",
        "*   Operations\n",
        "*   Input and Output Operations\n",
        "*   Logic Control\n",
        "*   Interables\n",
        "*   Functions\n",
        "\n",
        "\n"
      ]
    },
    {
      "cell_type": "markdown",
      "metadata": {
        "id": "M5zduYdv1qnk"
      },
      "source": [
        "## Variable and Data Types\n",
        "The value specifies which operations can be performed on a given set of data. Because everything in Python programming is an object, data types are essentially classes, and variables are instances of these classes."
      ]
    },
    {
      "cell_type": "code",
      "metadata": {
        "id": "5C0m1IpO3OaJ"
      },
      "source": [
        "x = 1\n",
        "a, b = 3, -2\n"
      ],
      "execution_count": null,
      "outputs": []
    },
    {
      "cell_type": "code",
      "metadata": {
        "id": "4HW_Koh_3oip",
        "colab": {
          "base_uri": "https://localhost:8080/"
        },
        "outputId": "f7116e46-b5f2-4fca-8682-11440d81475c"
      },
      "source": [
        "type (x)"
      ],
      "execution_count": null,
      "outputs": [
        {
          "output_type": "execute_result",
          "data": {
            "text/plain": [
              "int"
            ]
          },
          "metadata": {},
          "execution_count": 4
        }
      ]
    },
    {
      "cell_type": "code",
      "metadata": {
        "id": "tzyqiS7x3_jH",
        "colab": {
          "base_uri": "https://localhost:8080/"
        },
        "outputId": "e32b12f9-3902-4e86-c74a-40a7e72ee54d"
      },
      "source": [
        "y = 3.0\n",
        "type(y)"
      ],
      "execution_count": null,
      "outputs": [
        {
          "output_type": "execute_result",
          "data": {
            "text/plain": [
              "float"
            ]
          },
          "metadata": {},
          "execution_count": 5
        }
      ]
    },
    {
      "cell_type": "code",
      "metadata": {
        "id": "IA7v3AHs4FRV",
        "colab": {
          "base_uri": "https://localhost:8080/"
        },
        "outputId": "11ecd904-5d33-4662-f6ad-32b6ce745a94"
      },
      "source": [
        "x = float(x)\n",
        "type(x)\n",
        "x"
      ],
      "execution_count": null,
      "outputs": [
        {
          "output_type": "execute_result",
          "data": {
            "text/plain": [
              "1.0"
            ]
          },
          "metadata": {},
          "execution_count": 6
        }
      ]
    },
    {
      "cell_type": "code",
      "metadata": {
        "id": "_xDKKpP64QdX",
        "colab": {
          "base_uri": "https://localhost:8080/"
        },
        "outputId": "ed8e7a98-a2a7-472f-d8f4-868c89fa1e19"
      },
      "source": [
        "s, t, u = \"1\", '3', 'three'\n",
        "type(u)"
      ],
      "execution_count": null,
      "outputs": [
        {
          "output_type": "execute_result",
          "data": {
            "text/plain": [
              "str"
            ]
          },
          "metadata": {},
          "execution_count": 7
        }
      ]
    },
    {
      "cell_type": "markdown",
      "metadata": {
        "id": "s5QHUESW4vBV"
      },
      "source": [
        "## Operations\n",
        "\n"
      ]
    },
    {
      "cell_type": "markdown",
      "metadata": {
        "id": "bKhznTMP41K8"
      },
      "source": [
        "## Arithmethic\n",
        "Is used to perform mathematical operations. Seven arithmetic operators for different mathematical operations.\n",
        "\n",
        "*   Addition (+)\n",
        "*   Subtraction (-)\n",
        "*   Multiplication (*)\n",
        "*   Division (/)\n",
        "*   Exponentiation (**)\n",
        "*   Floor division (//)\n",
        "*   Modulus (%)\n"
      ]
    },
    {
      "cell_type": "code",
      "metadata": {
        "id": "8qZrc9fJ5ChO"
      },
      "source": [
        "w, x, y, z = 4.0, -3.0, 1, -32 "
      ],
      "execution_count": null,
      "outputs": []
    },
    {
      "cell_type": "code",
      "metadata": {
        "id": "SOBxuP6F446k"
      },
      "source": [
        "### Adition \n",
        "S = w + x\n"
      ],
      "execution_count": null,
      "outputs": []
    },
    {
      "cell_type": "code",
      "metadata": {
        "id": "sgURKE7g5jog"
      },
      "source": [
        "### Subtraction \n",
        "D = y - z"
      ],
      "execution_count": null,
      "outputs": []
    },
    {
      "cell_type": "code",
      "metadata": {
        "id": "dtP2rp1U5wAT"
      },
      "source": [
        "### Multiplication \n",
        "p = w*z\n"
      ],
      "execution_count": null,
      "outputs": []
    },
    {
      "cell_type": "code",
      "metadata": {
        "id": "yTZ_C4X_58mQ"
      },
      "source": [
        "### Division\n",
        "Q = y/x\n"
      ],
      "execution_count": null,
      "outputs": []
    },
    {
      "cell_type": "code",
      "metadata": {
        "id": "SiCgF8eY6Z6m"
      },
      "source": [
        "### Floor Division\n",
        "Qf = w//z\n"
      ],
      "execution_count": null,
      "outputs": []
    },
    {
      "cell_type": "code",
      "metadata": {
        "id": "i1E1lIf_7F74"
      },
      "source": [
        "### Exponentiation\n",
        "E = w**w\n"
      ],
      "execution_count": null,
      "outputs": []
    },
    {
      "cell_type": "code",
      "metadata": {
        "id": "FsrJnsn47Y40"
      },
      "source": [
        "### Modulo\n",
        "mod = z%x\n"
      ],
      "execution_count": null,
      "outputs": []
    },
    {
      "cell_type": "markdown",
      "metadata": {
        "id": "YBxAeIu37yYn"
      },
      "source": [
        "## Assignment Operations\n",
        "Are used to assign values to variables in Python. The assignment operator a = 5 assigns the value 5 on the right to the left-hand variable.\n",
        "\n",
        "*   *=\n",
        "*   /=\n",
        "*   **=\n",
        "*   //=\n",
        "*   %="
      ]
    },
    {
      "cell_type": "code",
      "metadata": {
        "id": "046YpSpI72-l"
      },
      "source": [
        "A, B, C, D, E = 0, 100, 2, 1, 2"
      ],
      "execution_count": null,
      "outputs": []
    },
    {
      "cell_type": "code",
      "metadata": {
        "id": "E72hiJIs7-X9"
      },
      "source": [
        "A += w\n"
      ],
      "execution_count": null,
      "outputs": []
    },
    {
      "cell_type": "code",
      "metadata": {
        "id": "lEqamLbB8Vtb"
      },
      "source": [
        "B -= x\n"
      ],
      "execution_count": null,
      "outputs": []
    },
    {
      "cell_type": "code",
      "metadata": {
        "id": "lAnDYrCv9GCs"
      },
      "source": [
        "C *= w\n"
      ],
      "execution_count": null,
      "outputs": []
    },
    {
      "cell_type": "code",
      "metadata": {
        "id": "BL1PelML9TBf"
      },
      "source": [
        "D /= x\n"
      ],
      "execution_count": null,
      "outputs": []
    },
    {
      "cell_type": "code",
      "metadata": {
        "id": "rjx24E5L9eck"
      },
      "source": [
        "E **= y\n"
      ],
      "execution_count": null,
      "outputs": []
    },
    {
      "cell_type": "markdown",
      "metadata": {
        "id": "YdoXBPER-T2y"
      },
      "source": [
        "## Comparators\n",
        "Comparators are tools that allow two items to be compared. You'll make a comparator and use it to sort an array in this task.\n",
        "\n",
        "*   Equal: ==\n",
        "*   Not equal: !=\n",
        "*   Greater than: >\n",
        "*  Less than: <\n",
        "*   Greater than or equal: >=\n",
        "*   Less than or equal: <=\n",
        " "
      ]
    },
    {
      "cell_type": "code",
      "metadata": {
        "id": "NgXnCCQ1-YEG"
      },
      "source": [
        "size_1, size_2, size_3 = 1, 2.0, \"1\"\n",
        "true_size = 1.0"
      ],
      "execution_count": null,
      "outputs": []
    },
    {
      "cell_type": "code",
      "metadata": {
        "id": "qJ3AOshI-i_K",
        "colab": {
          "base_uri": "https://localhost:8080/"
        },
        "outputId": "e1c00f69-4463-4e43-e8c5-b77b9535dd2e"
      },
      "source": [
        "## Equality\n",
        "size_1 == true_size"
      ],
      "execution_count": null,
      "outputs": [
        {
          "output_type": "execute_result",
          "data": {
            "text/plain": [
              "True"
            ]
          },
          "metadata": {},
          "execution_count": 23
        }
      ]
    },
    {
      "cell_type": "code",
      "metadata": {
        "id": "DNpKtvtY-4R-",
        "colab": {
          "base_uri": "https://localhost:8080/"
        },
        "outputId": "11363ee4-3ad8-4a36-d43e-602a51409862"
      },
      "source": [
        "## Non-Equality\n",
        "size_2 != true_size"
      ],
      "execution_count": null,
      "outputs": [
        {
          "output_type": "execute_result",
          "data": {
            "text/plain": [
              "True"
            ]
          },
          "metadata": {},
          "execution_count": 24
        }
      ]
    },
    {
      "cell_type": "code",
      "metadata": {
        "id": "1JycsNFp_AAk"
      },
      "source": [
        "## Inequality \n",
        "s1 = size_1 > size_2\n",
        "s2 = size_1 < size_2/2\n",
        "s3 = true_size >= size_1\n",
        "s4 = size_2 <= true_size\n"
      ],
      "execution_count": null,
      "outputs": []
    },
    {
      "cell_type": "markdown",
      "metadata": {
        "id": "0ThuPZmx_3v8"
      },
      "source": [
        "## Logical / Logic Control\n",
        "Allows you to determine whether two expressions are True, the or logical operator determines whether one of many expressions is True, and the not operator determines whether an expression is False."
      ]
    },
    {
      "cell_type": "code",
      "metadata": {
        "id": "JfAgp17w_576",
        "colab": {
          "base_uri": "https://localhost:8080/"
        },
        "outputId": "600e3697-6b31-41ec-deb6-8d9411aef96a"
      },
      "source": [
        "size_1 == true_size"
      ],
      "execution_count": null,
      "outputs": [
        {
          "output_type": "execute_result",
          "data": {
            "text/plain": [
              "True"
            ]
          },
          "metadata": {},
          "execution_count": 26
        }
      ]
    },
    {
      "cell_type": "code",
      "metadata": {
        "id": "xuLXnLOOAFb-",
        "colab": {
          "base_uri": "https://localhost:8080/"
        },
        "outputId": "d22291c5-3e89-40d2-cd54-142fc47d76dd"
      },
      "source": [
        "size_1 is true_size"
      ],
      "execution_count": null,
      "outputs": [
        {
          "output_type": "execute_result",
          "data": {
            "text/plain": [
              "False"
            ]
          },
          "metadata": {},
          "execution_count": 27
        }
      ]
    },
    {
      "cell_type": "code",
      "metadata": {
        "id": "SWsTXLKYAcb4",
        "colab": {
          "base_uri": "https://localhost:8080/"
        },
        "outputId": "d9da8bc6-2d33-47f7-ec72-8155899e560b"
      },
      "source": [
        "size_1 is not true_size"
      ],
      "execution_count": null,
      "outputs": [
        {
          "output_type": "execute_result",
          "data": {
            "text/plain": [
              "True"
            ]
          },
          "metadata": {},
          "execution_count": 28
        }
      ]
    },
    {
      "cell_type": "code",
      "metadata": {
        "id": "gUYNFCNxAm5B"
      },
      "source": [
        "P, Q = True, False\n",
        "conj = P and Q\n"
      ],
      "execution_count": null,
      "outputs": []
    },
    {
      "cell_type": "code",
      "metadata": {
        "id": "I0iSlpi0A8yN"
      },
      "source": [
        "disj = P or Q"
      ],
      "execution_count": null,
      "outputs": []
    },
    {
      "cell_type": "code",
      "metadata": {
        "id": "PqSN0wT1BIlk"
      },
      "source": [
        "nand = not(P and Q)\n"
      ],
      "execution_count": null,
      "outputs": []
    },
    {
      "cell_type": "code",
      "metadata": {
        "id": "Rpj2jYQIBY2D"
      },
      "source": [
        "xor = (not P and Q) or (P and not Q)\n"
      ],
      "execution_count": null,
      "outputs": []
    },
    {
      "cell_type": "markdown",
      "metadata": {
        "id": "fjOtb415B1b6"
      },
      "source": [
        "## Input and Output\n",
        "Input refers to any information or data sent to the computer by the user via the keyboard. Output refers to the information that the computer provides to the user."
      ]
    },
    {
      "cell_type": "code",
      "metadata": {
        "id": "A_pQk4dhCJy8",
        "colab": {
          "base_uri": "https://localhost:8080/"
        },
        "outputId": "dedab450-1a33-410f-ab9e-969f389ba04a"
      },
      "source": [
        "print (\"Hello World!\")"
      ],
      "execution_count": null,
      "outputs": [
        {
          "output_type": "stream",
          "name": "stdout",
          "text": [
            "Hello World!\n"
          ]
        }
      ]
    },
    {
      "cell_type": "code",
      "metadata": {
        "id": "2osLF66KCGTr"
      },
      "source": [
        "cnt = 14000"
      ],
      "execution_count": null,
      "outputs": []
    },
    {
      "cell_type": "code",
      "metadata": {
        "id": "rqUM6jwjCTMz",
        "colab": {
          "base_uri": "https://localhost:8080/"
        },
        "outputId": "d0ffa99f-6c78-4e2b-98cd-311bfd4a8266"
      },
      "source": [
        "string = \"Hello World!\"\n",
        "print(string, \", Current COVID count is:\", cnt)\n",
        "cnt += 10000"
      ],
      "execution_count": null,
      "outputs": [
        {
          "output_type": "stream",
          "name": "stdout",
          "text": [
            "Hello World! , Current COVID count is: 14000\n"
          ]
        }
      ]
    },
    {
      "cell_type": "code",
      "metadata": {
        "id": "gLjxwi1wC7AY",
        "colab": {
          "base_uri": "https://localhost:8080/"
        },
        "outputId": "acadaf6b-070a-4732-843c-ea38cd1ceaf1"
      },
      "source": [
        "print(f\"{string}, current count is: {cnt}\")"
      ],
      "execution_count": null,
      "outputs": [
        {
          "output_type": "stream",
          "name": "stdout",
          "text": [
            "Hello World!, current count is: 24000\n"
          ]
        }
      ]
    },
    {
      "cell_type": "code",
      "metadata": {
        "id": "ANAmY-vVD0hw",
        "colab": {
          "base_uri": "https://localhost:8080/"
        },
        "outputId": "9a67b557-b42d-4617-8fe7-683bbe94f423"
      },
      "source": [
        "sem_grade = 86.25 \n",
        "name = \"Jobhert\"\n",
        "print(\"Hello {}, your semestral grade is: {}\".format(name, sem_grade))"
      ],
      "execution_count": null,
      "outputs": [
        {
          "output_type": "stream",
          "name": "stdout",
          "text": [
            "Hello Jobhert, your semestral grade is: 86.25\n"
          ]
        }
      ]
    },
    {
      "cell_type": "code",
      "metadata": {
        "id": "ac0oSJUbDR02",
        "colab": {
          "base_uri": "https://localhost:8080/"
        },
        "outputId": "46748266-4adc-4d26-dcdb-4c12c7381d0f"
      },
      "source": [
        "pg, mg, fg = 0.3, 0.3, 0.4\n",
        "print(\"The weights of your semestral grades are:\\\n",
        "\\n\\t {:.2%} for Prelims\\\n",
        "\\n\\t {:.2%} for Midterms, and\\\n",
        "\\n\\t {:.2%} for Finals.\".format(pg, mg, fg))\n",
        "\n"
      ],
      "execution_count": null,
      "outputs": [
        {
          "output_type": "stream",
          "name": "stdout",
          "text": [
            "The weights of your semestral grades are:\n",
            "\t 30.00% for Prelims\n",
            "\t 30.00% for Midterms, and\n",
            "\t 40.00% for Finals.\n"
          ]
        }
      ]
    },
    {
      "cell_type": "code",
      "metadata": {
        "id": "gUU88K7HFgEk",
        "colab": {
          "base_uri": "https://localhost:8080/"
        },
        "outputId": "f2620123-3791-47bd-f6af-97747cf651eb"
      },
      "source": [
        "e = input(\"Enter a number:\")\n"
      ],
      "execution_count": null,
      "outputs": [
        {
          "name": "stdout",
          "output_type": "stream",
          "text": [
            "Enter a number:1\n"
          ]
        }
      ]
    },
    {
      "cell_type": "code",
      "metadata": {
        "id": "XXJPBGh-F7Fj",
        "colab": {
          "base_uri": "https://localhost:8080/"
        },
        "outputId": "dcf1012e-f06f-4ac8-b845-30d532cba7e1"
      },
      "source": [
        "name = input(\"Enter your name: \")\n",
        "pg = input(\"Enter prelim grade: \")\n",
        "mg = input(\"Enter midterm grade: \")\n",
        "fg = input(\"Enter final grade: \")\n",
        "sem_grade = None\n",
        "print(\"Hello{}, your semestral grade is: {}\".format(name, sem_grade))"
      ],
      "execution_count": null,
      "outputs": [
        {
          "output_type": "stream",
          "name": "stdout",
          "text": [
            "Enter your name: Jobhert\n",
            "Enter prelim grade: 80\n",
            "Enter midterm grade: 80\n",
            "Enter final grade: 80\n",
            "HelloJobhert, your semestral grade is: None\n"
          ]
        }
      ]
    },
    {
      "cell_type": "markdown",
      "metadata": {
        "id": "vqwYmJmZLKuP"
      },
      "source": [
        "## Looping Statements\n",
        "Is used to execute a block of statements or code numerous times according to the user's specifications."
      ]
    },
    {
      "cell_type": "markdown",
      "metadata": {
        "id": "bo38zsP9LVCN"
      },
      "source": [
        "## While"
      ]
    },
    {
      "cell_type": "code",
      "metadata": {
        "id": "-J9836OoLRBP",
        "colab": {
          "base_uri": "https://localhost:8080/"
        },
        "outputId": "1501bb92-bc89-408a-a902-511a26a358c6"
      },
      "source": [
        "## While Loops\n",
        "i, j = 0, 10\n",
        "while(i<=j):\n",
        "  print(f\"{i}\\t|\\t{j}\")\n",
        "  i += 1"
      ],
      "execution_count": null,
      "outputs": [
        {
          "output_type": "stream",
          "name": "stdout",
          "text": [
            "0\t|\t10\n",
            "1\t|\t10\n",
            "2\t|\t10\n",
            "3\t|\t10\n",
            "4\t|\t10\n",
            "5\t|\t10\n",
            "6\t|\t10\n",
            "7\t|\t10\n",
            "8\t|\t10\n",
            "9\t|\t10\n",
            "10\t|\t10\n"
          ]
        }
      ]
    },
    {
      "cell_type": "markdown",
      "metadata": {
        "id": "_vSpc2hZL8FY"
      },
      "source": [
        "## For"
      ]
    },
    {
      "cell_type": "code",
      "metadata": {
        "id": "NuUS2rQoL9_e",
        "colab": {
          "base_uri": "https://localhost:8080/"
        },
        "outputId": "b4172bf0-c0ed-49d1-f460-15364eb5347e"
      },
      "source": [
        "# for (int = 0; i<10; i++){\n",
        "# printf(i)\n",
        "# }\n",
        "\n",
        "i = 0\n",
        "for i in range(11):\n",
        "  print(i)"
      ],
      "execution_count": null,
      "outputs": [
        {
          "output_type": "stream",
          "name": "stdout",
          "text": [
            "0\n",
            "1\n",
            "2\n",
            "3\n",
            "4\n",
            "5\n",
            "6\n",
            "7\n",
            "8\n",
            "9\n",
            "10\n"
          ]
        }
      ]
    },
    {
      "cell_type": "code",
      "metadata": {
        "id": "fVPADn_BMtdE",
        "colab": {
          "base_uri": "https://localhost:8080/"
        },
        "outputId": "1196420b-3c05-4e41-85e5-8ad2efc7601e"
      },
      "source": [
        "playlist = [\"Bahay Kubo\", \"Magandang Kanta\", \"Buko\"]\n",
        "print('Now Playing:\\n')\n",
        "for song in playlist:\n",
        "  print(song)"
      ],
      "execution_count": null,
      "outputs": [
        {
          "output_type": "stream",
          "name": "stdout",
          "text": [
            "Now Playing:\n",
            "\n",
            "Bahay Kubo\n",
            "Magandang Kanta\n",
            "Buko\n"
          ]
        }
      ]
    },
    {
      "cell_type": "markdown",
      "metadata": {
        "id": "FEfSE1w3Nd4k"
      },
      "source": [
        "## Flow Control\n",
        "Is the execution order of the program's code. Conditional statements, loops, and function calls govern the control flow of a Python program."
      ]
    },
    {
      "cell_type": "markdown",
      "metadata": {
        "id": "3g2cvsMzNvLf"
      },
      "source": [
        "## Conditional Statement "
      ]
    },
    {
      "cell_type": "code",
      "metadata": {
        "id": "2m5Ws__bNyNh",
        "colab": {
          "base_uri": "https://localhost:8080/"
        },
        "outputId": "8803c94b-344b-466c-fd37-88f892a98bec"
      },
      "source": [
        "num_1, num_2 = 14, 12\n",
        "if (num_1 == num_2):\n",
        "    print(\"HAHA\")\n",
        "elif(num_1>num_2):\n",
        "    print(\"HOHO\")\n",
        "else:\n",
        "    print(\"HUHU\")\n"
      ],
      "execution_count": null,
      "outputs": [
        {
          "output_type": "stream",
          "name": "stdout",
          "text": [
            "HOHO\n"
          ]
        }
      ]
    },
    {
      "cell_type": "markdown",
      "metadata": {
        "id": "lFn3qkwiOU7_"
      },
      "source": [
        "## Functions"
      ]
    },
    {
      "cell_type": "code",
      "metadata": {
        "id": "up6hjacyOXws"
      },
      "source": [
        "# void DeleteUser (int userid){\n",
        "# delete(userid);\n",
        "#}\n",
        "\n",
        "def delete_user (userid):\n",
        "    print(\"Successfully deleted user: {}\".format(userid))"
      ],
      "execution_count": null,
      "outputs": []
    },
    {
      "cell_type": "code",
      "metadata": {
        "id": "1Hh2rQPKO03M"
      },
      "source": [
        "userid = 2020_100100\n",
        "delete_user = (2020_100100)"
      ],
      "execution_count": null,
      "outputs": []
    },
    {
      "cell_type": "code",
      "metadata": {
        "id": "IKCVsL8cO-zH"
      },
      "source": [
        "addend1, addend2, = 5, 6"
      ],
      "execution_count": null,
      "outputs": []
    },
    {
      "cell_type": "code",
      "metadata": {
        "id": "jLdQHGvqPE5i"
      },
      "source": [
        "def add(addend1, addend2):\n",
        "    sum = addend1 + addend2\n",
        "    return sum"
      ],
      "execution_count": null,
      "outputs": []
    },
    {
      "cell_type": "code",
      "metadata": {
        "colab": {
          "base_uri": "https://localhost:8080/"
        },
        "id": "AkE_eVmCPvdf",
        "outputId": "a980bdcc-0e6d-4479-a4eb-ee5ae4ff81cb"
      },
      "source": [
        "add(5, 4)"
      ],
      "execution_count": null,
      "outputs": [
        {
          "output_type": "execute_result",
          "data": {
            "text/plain": [
              "9"
            ]
          },
          "metadata": {},
          "execution_count": 51
        }
      ]
    },
    {
      "cell_type": "markdown",
      "metadata": {
        "id": "quyetDyp9CVL"
      },
      "source": [
        "#Conclusion\n",
        "To conclude, I manage to understand how to use, operate and how to function the code. A new experience for me and to adjust to this new type of learning. By being able to understand Python I might be a prepared code user in the future."
      ]
    },
    {
      "cell_type": "markdown",
      "metadata": {
        "id": "um05lAhV9RoH"
      },
      "source": [
        "#Reference:\n",
        "\n",
        "[1]  Learn Python the Hard Way: 3rd Edition\n",
        "\n",
        "[2]  Waseem, M., 2021. Variables And Data Types In Python | Python For Beginners | Edureka. [online] Edureka.\n",
        "\n",
        "[3]   Python Crash Course: A Hands-On, Project-Based Introduction to Programming (2nd Edition)\n",
        "\n",
        "[4] Python Course (2021).(https://geek-university.com/python)\n",
        "\n",
        "[5] Python - Loops(2021).(https://www.tutorialspoint.com/python/python_loops.htm) \n",
        "\n",
        "\n",
        "\n",
        "\n",
        "\n"
      ]
    },
    {
      "cell_type": "markdown",
      "metadata": {
        "id": "XemtO9p4EoA5"
      },
      "source": [
        "![image](https://upload.wikimedia.org/wikipedia/commons/f/f8/Python_logo_and_wordmark.svg)"
      ]
    }
  ]
}